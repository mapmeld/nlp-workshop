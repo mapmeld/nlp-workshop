{
  "nbformat": 4,
  "nbformat_minor": 0,
  "metadata": {
    "colab": {
      "name": "Starter-Adapter-Reviews-Code.ipynb",
      "provenance": [],
      "collapsed_sections": []
    },
    "kernelspec": {
      "name": "python3",
      "display_name": "Python 3"
    },
    "language_info": {
      "name": "python"
    },
    "accelerator": "GPU"
  },
  "cells": [
    {
      "cell_type": "code",
      "source": [
        "! git clone https://github.com/adapter-hub/adapter-transformers\n",
        "! cd adapter-transformers && pip install .\n",
        "\n",
        "# based on doc at https://docs.adapterhub.ml/training.html\n",
        "# installs modded HuggingFace/transformers https://github.com/adapter-hub/adapter-transformers"
      ],
      "metadata": {
        "id": "eSx6y1y6jio3"
      },
      "execution_count": null,
      "outputs": []
    },
    {
      "cell_type": "code",
      "source": [
        "%%capture\n",
        "! pip install datasets"
      ],
      "metadata": {
        "id": "Zr44xtJSP25V"
      },
      "execution_count": null,
      "outputs": []
    },
    {
      "cell_type": "markdown",
      "source": [
        "Read more about models and developers:\n",
        "\n",
        "- Czert https://huggingface.co/UWB-AIR\n",
        "- Slavic-BERT https://huggingface.co/DeepPavlov/bert-base-bg-cs-pl-ru-cased\n",
        "- cst5 https://huggingface.co/azizbarank/cst5-base\n",
        "\n",
        "(if making an Adapter, it is designed to work with HuggingFace)"
      ],
      "metadata": {
        "id": "_VrSzXyGjzjC"
      }
    },
    {
      "cell_type": "markdown",
      "source": [
        "## Understanding the tokenizer\n",
        "\n",
        "After seeing this tokenizer understands words (or sub-words)\n",
        "\n",
        "Change it to your model."
      ],
      "metadata": {
        "id": "5mWxtVuqlXlM"
      }
    },
    {
      "cell_type": "code",
      "source": [
        "# as of 8 May 2022, HF Transformers is at 4.18.0, and Adapter-Transformers is 4.17.0\n",
        "import transformers\n",
        "transformers.__version__"
      ],
      "metadata": {
        "colab": {
          "base_uri": "https://localhost:8080/",
          "height": 35
        },
        "id": "UZnlT9A4QLMJ",
        "outputId": "4541b26f-6f25-44e3-fa92-5e4726124200"
      },
      "execution_count": null,
      "outputs": [
        {
          "output_type": "execute_result",
          "data": {
            "text/plain": [
              "'4.17.0'"
            ],
            "application/vnd.google.colaboratory.intrinsic+json": {
              "type": "string"
            }
          },
          "metadata": {},
          "execution_count": 3
        }
      ]
    },
    {
      "cell_type": "code",
      "source": [
        "from transformers import AutoTokenizer\n",
        "tokenizer = AutoTokenizer.from_pretrained('bert-base-cased')"
      ],
      "metadata": {
        "id": "2Y-o9L2zkbL0"
      },
      "execution_count": null,
      "outputs": []
    },
    {
      "cell_type": "code",
      "source": [
        "# Recognizing words\n",
        "tokenizer.tokenize('Ahoj Artur')"
      ],
      "metadata": {
        "id": "L9OL_MjlklhI"
      },
      "execution_count": null,
      "outputs": []
    },
    {
      "cell_type": "code",
      "source": [
        "# Encoding into IDs (which model will turn into vector / embeddings)\n",
        "tokenizer('Ahoj Artur.')"
      ],
      "metadata": {
        "id": "Ms086MLnlO5-"
      },
      "execution_count": null,
      "outputs": []
    },
    {
      "cell_type": "code",
      "source": [
        "# Splitting up a word\n",
        "tokenizer.tokenize('?')"
      ],
      "metadata": {
        "colab": {
          "base_uri": "https://localhost:8080/"
        },
        "id": "aMRcvEFdlcmx",
        "outputId": "e88e7a18-d829-4c07-fc46-35a48708c396"
      },
      "execution_count": null,
      "outputs": [
        {
          "output_type": "execute_result",
          "data": {
            "text/plain": [
              "['?']"
            ]
          },
          "metadata": {},
          "execution_count": 7
        }
      ]
    },
    {
      "cell_type": "code",
      "source": [
        "# Is it significant who has 1-token names in our model?\n",
        "tokenizer.tokenize('?')"
      ],
      "metadata": {
        "colab": {
          "base_uri": "https://localhost:8080/"
        },
        "id": "yIdZ21DWlo0k",
        "outputId": "6c63f2ed-c0ee-4ab6-935c-634bd47d47e0"
      },
      "execution_count": null,
      "outputs": [
        {
          "output_type": "execute_result",
          "data": {
            "text/plain": [
              "['?']"
            ]
          },
          "metadata": {},
          "execution_count": 8
        }
      ]
    },
    {
      "cell_type": "markdown",
      "source": [
        "## Dataset"
      ],
      "metadata": {
        "id": "yDasZblpL6yc"
      }
    },
    {
      "cell_type": "code",
      "source": [
        "import pandas as pd\n",
        "import xml.etree.ElementTree as ET\n",
        "\n",
        "xml_data = open('./csfd-90k-reviews-ranlp2013.xml', 'r').read()\n",
        "root = ET.XML(xml_data)\n",
        "\n",
        "rows = []\n",
        "for index, child in enumerate(root):\n",
        "  txt = child.findtext('text')\n",
        "  rating = int(child.attrib['origRating'])\n",
        "  rows.append([txt, rating])\n",
        "\n",
        "all_data = pd.DataFrame(rows, columns=['text', 'rating'])\n",
        "all_data.head()"
      ],
      "metadata": {
        "colab": {
          "base_uri": "https://localhost:8080/",
          "height": 206
        },
        "id": "HIc1lPOxL7fW",
        "outputId": "9bb4e742-da53-4b51-d18b-f92675652413"
      },
      "execution_count": null,
      "outputs": [
        {
          "output_type": "execute_result",
          "data": {
            "text/plain": [
              "                                                text  rating\n",
              "0  Druhý film Angely Schanelec o počasí. :) Po zh...       5\n",
              "1  U Pomalého života jsem strávil 80 minut a teď ...       2\n",
              "2  Nevím, jestli je to nepovedeným dabingem, otra...       2\n",
              "3  Upřímný a velice smutný film, chvílemi tak dep...       5\n",
              "4  Možná to bude trochu divný komentář, ale nemůž...       2"
            ],
            "text/html": [
              "\n",
              "  <div id=\"df-278b8398-ef97-4317-8926-2b6f7f40aba7\">\n",
              "    <div class=\"colab-df-container\">\n",
              "      <div>\n",
              "<style scoped>\n",
              "    .dataframe tbody tr th:only-of-type {\n",
              "        vertical-align: middle;\n",
              "    }\n",
              "\n",
              "    .dataframe tbody tr th {\n",
              "        vertical-align: top;\n",
              "    }\n",
              "\n",
              "    .dataframe thead th {\n",
              "        text-align: right;\n",
              "    }\n",
              "</style>\n",
              "<table border=\"1\" class=\"dataframe\">\n",
              "  <thead>\n",
              "    <tr style=\"text-align: right;\">\n",
              "      <th></th>\n",
              "      <th>text</th>\n",
              "      <th>rating</th>\n",
              "    </tr>\n",
              "  </thead>\n",
              "  <tbody>\n",
              "    <tr>\n",
              "      <th>0</th>\n",
              "      <td>Druhý film Angely Schanelec o počasí. :) Po zh...</td>\n",
              "      <td>5</td>\n",
              "    </tr>\n",
              "    <tr>\n",
              "      <th>1</th>\n",
              "      <td>U Pomalého života jsem strávil 80 minut a teď ...</td>\n",
              "      <td>2</td>\n",
              "    </tr>\n",
              "    <tr>\n",
              "      <th>2</th>\n",
              "      <td>Nevím, jestli je to nepovedeným dabingem, otra...</td>\n",
              "      <td>2</td>\n",
              "    </tr>\n",
              "    <tr>\n",
              "      <th>3</th>\n",
              "      <td>Upřímný a velice smutný film, chvílemi tak dep...</td>\n",
              "      <td>5</td>\n",
              "    </tr>\n",
              "    <tr>\n",
              "      <th>4</th>\n",
              "      <td>Možná to bude trochu divný komentář, ale nemůž...</td>\n",
              "      <td>2</td>\n",
              "    </tr>\n",
              "  </tbody>\n",
              "</table>\n",
              "</div>\n",
              "      <button class=\"colab-df-convert\" onclick=\"convertToInteractive('df-278b8398-ef97-4317-8926-2b6f7f40aba7')\"\n",
              "              title=\"Convert this dataframe to an interactive table.\"\n",
              "              style=\"display:none;\">\n",
              "        \n",
              "  <svg xmlns=\"http://www.w3.org/2000/svg\" height=\"24px\"viewBox=\"0 0 24 24\"\n",
              "       width=\"24px\">\n",
              "    <path d=\"M0 0h24v24H0V0z\" fill=\"none\"/>\n",
              "    <path d=\"M18.56 5.44l.94 2.06.94-2.06 2.06-.94-2.06-.94-.94-2.06-.94 2.06-2.06.94zm-11 1L8.5 8.5l.94-2.06 2.06-.94-2.06-.94L8.5 2.5l-.94 2.06-2.06.94zm10 10l.94 2.06.94-2.06 2.06-.94-2.06-.94-.94-2.06-.94 2.06-2.06.94z\"/><path d=\"M17.41 7.96l-1.37-1.37c-.4-.4-.92-.59-1.43-.59-.52 0-1.04.2-1.43.59L10.3 9.45l-7.72 7.72c-.78.78-.78 2.05 0 2.83L4 21.41c.39.39.9.59 1.41.59.51 0 1.02-.2 1.41-.59l7.78-7.78 2.81-2.81c.8-.78.8-2.07 0-2.86zM5.41 20L4 18.59l7.72-7.72 1.47 1.35L5.41 20z\"/>\n",
              "  </svg>\n",
              "      </button>\n",
              "      \n",
              "  <style>\n",
              "    .colab-df-container {\n",
              "      display:flex;\n",
              "      flex-wrap:wrap;\n",
              "      gap: 12px;\n",
              "    }\n",
              "\n",
              "    .colab-df-convert {\n",
              "      background-color: #E8F0FE;\n",
              "      border: none;\n",
              "      border-radius: 50%;\n",
              "      cursor: pointer;\n",
              "      display: none;\n",
              "      fill: #1967D2;\n",
              "      height: 32px;\n",
              "      padding: 0 0 0 0;\n",
              "      width: 32px;\n",
              "    }\n",
              "\n",
              "    .colab-df-convert:hover {\n",
              "      background-color: #E2EBFA;\n",
              "      box-shadow: 0px 1px 2px rgba(60, 64, 67, 0.3), 0px 1px 3px 1px rgba(60, 64, 67, 0.15);\n",
              "      fill: #174EA6;\n",
              "    }\n",
              "\n",
              "    [theme=dark] .colab-df-convert {\n",
              "      background-color: #3B4455;\n",
              "      fill: #D2E3FC;\n",
              "    }\n",
              "\n",
              "    [theme=dark] .colab-df-convert:hover {\n",
              "      background-color: #434B5C;\n",
              "      box-shadow: 0px 1px 3px 1px rgba(0, 0, 0, 0.15);\n",
              "      filter: drop-shadow(0px 1px 2px rgba(0, 0, 0, 0.3));\n",
              "      fill: #FFFFFF;\n",
              "    }\n",
              "  </style>\n",
              "\n",
              "      <script>\n",
              "        const buttonEl =\n",
              "          document.querySelector('#df-278b8398-ef97-4317-8926-2b6f7f40aba7 button.colab-df-convert');\n",
              "        buttonEl.style.display =\n",
              "          google.colab.kernel.accessAllowed ? 'block' : 'none';\n",
              "\n",
              "        async function convertToInteractive(key) {\n",
              "          const element = document.querySelector('#df-278b8398-ef97-4317-8926-2b6f7f40aba7');\n",
              "          const dataTable =\n",
              "            await google.colab.kernel.invokeFunction('convertToInteractive',\n",
              "                                                     [key], {});\n",
              "          if (!dataTable) return;\n",
              "\n",
              "          const docLinkHtml = 'Like what you see? Visit the ' +\n",
              "            '<a target=\"_blank\" href=https://colab.research.google.com/notebooks/data_table.ipynb>data table notebook</a>'\n",
              "            + ' to learn more about interactive tables.';\n",
              "          element.innerHTML = '';\n",
              "          dataTable['output_type'] = 'display_data';\n",
              "          await google.colab.output.renderOutput(dataTable, element);\n",
              "          const docLink = document.createElement('div');\n",
              "          docLink.innerHTML = docLinkHtml;\n",
              "          element.appendChild(docLink);\n",
              "        }\n",
              "      </script>\n",
              "    </div>\n",
              "  </div>\n",
              "  "
            ]
          },
          "metadata": {},
          "execution_count": 9
        }
      ]
    },
    {
      "cell_type": "code",
      "source": [
        "set(train_df.rating.values)"
      ],
      "metadata": {
        "id": "ZEl-0tO_YZ1W"
      },
      "execution_count": null,
      "outputs": []
    },
    {
      "cell_type": "code",
      "source": [
        "all_data['label'] = ?"
      ],
      "metadata": {
        "id": "oQOI_SEEM634"
      },
      "execution_count": null,
      "outputs": []
    },
    {
      "cell_type": "code",
      "source": [
        "# Limit how much data to make training faster for the workshop\n",
        "# Use random_state for reproducible work\n",
        "\n",
        "sample_data = all_data.sample(?, random_state=?)"
      ],
      "metadata": {
        "id": "S88UEWCVYi68"
      },
      "execution_count": null,
      "outputs": []
    },
    {
      "cell_type": "code",
      "source": [
        "from datasets import Dataset\n",
        "\n",
        "def tokenize_function(examples):\n",
        "  return tokenizer(examples[\"text\"], padding=\"max_length\", truncation=True, max_length= ?)\n",
        "\n",
        "train_dset = Dataset.from_pandas(train_df).map(tokenize_function, batched=True)\n",
        "test_dset = Dataset.from_pandas(test_df).map(tokenize_function, batched=True)"
      ],
      "metadata": {
        "id": "XgdFcDojeKPT"
      },
      "execution_count": null,
      "outputs": []
    },
    {
      "cell_type": "markdown",
      "source": [
        "## Download model, create the adapter\n",
        "\n",
        "https://docs.adapterhub.ml/training.html#adaptertrainer"
      ],
      "metadata": {
        "id": "hNOE-EbamYlF"
      }
    },
    {
      "cell_type": "code",
      "source": [
        "from transformers import AutoAdapterModel\n",
        "\n",
        "task_name = \"\"\n",
        "model = AutoAdapterModel.from_pretrained(\"bert-base-cased\")\n",
        "# add_classification_head\n",
        "model.add_classification_head(task_name, num_labels=?, activation_function=?)"
      ],
      "metadata": {
        "id": "9nf3c4fKQ0Ot"
      },
      "execution_count": null,
      "outputs": []
    },
    {
      "cell_type": "code",
      "source": [
        "from transformers import AdapterConfig\n",
        "\n",
        "# resolve the adapter config\n",
        "adapter_config = AdapterConfig.load(\n",
        "    {},\n",
        ")\n",
        "\n",
        "# honestly I am not sure which of these are needed (all?)\n",
        "model.add_adapter(task_name)\n",
        "model.train_adapter(task_name)\n",
        "model.set_active_adapters(task_name)"
      ],
      "metadata": {
        "id": "3C3K5GSJRXxu"
      },
      "execution_count": null,
      "outputs": []
    },
    {
      "cell_type": "markdown",
      "source": [
        "## Fine-tuning"
      ],
      "metadata": {
        "id": "lo3GdX0ZJtwA"
      }
    },
    {
      "cell_type": "code",
      "source": [
        "from transformers import TrainingArguments, AdapterTrainer\n",
        "\n",
        "training_args = TrainingArguments(\n",
        "    output_dir=\"./outputs\",\n",
        "    evaluation_strategy=\"epoch\",\n",
        "    save_strategy=\"epoch\",\n",
        "    num_train_epochs=2,\n",
        "    #logging_nan_inf_filter=False,\n",
        ")\n",
        "\n",
        "trainer = AdapterTrainer(\n",
        "    model=model,\n",
        "    args=training_args,\n",
        "    train_dataset=train_dset,\n",
        "    eval_dataset=test_dset,\n",
        "    tokenizer=tokenizer,\n",
        "    # compute_metrics=?\n",
        "    # data_collator=data_collator,\n",
        ")"
      ],
      "metadata": {
        "id": "OQYNL78Pcd70"
      },
      "execution_count": null,
      "outputs": []
    },
    {
      "cell_type": "code",
      "source": [
        "trainer.train()"
      ],
      "metadata": {
        "id": "GiBvQKnfgVCx"
      },
      "execution_count": null,
      "outputs": []
    },
    {
      "cell_type": "markdown",
      "source": [
        "## Predictions and Evaluation"
      ],
      "metadata": {
        "id": "g_DzrFkhJ4D2"
      }
    },
    {
      "cell_type": "code",
      "source": [
        "predictions = trainer.predict(test_dset)"
      ],
      "metadata": {
        "id": "BJzSyZc4Pp3g"
      },
      "execution_count": null,
      "outputs": []
    },
    {
      "cell_type": "code",
      "source": [
        "predictions.predictions"
      ],
      "metadata": {
        "id": "pWJuo158ENSf"
      },
      "execution_count": null,
      "outputs": []
    },
    {
      "cell_type": "markdown",
      "source": [
        "## Exporting the Adapter\n",
        "\n",
        "https://docs.adapterhub.ml/contributing.html"
      ],
      "metadata": {
        "id": "MY5ZbbmnJ698"
      }
    },
    {
      "cell_type": "code",
      "source": [
        "# Downloading model\n",
        "! ls outputs/*"
      ],
      "metadata": {
        "id": "72bOyu3YOejI"
      },
      "execution_count": null,
      "outputs": []
    }
  ]
}