{
  "nbformat": 4,
  "nbformat_minor": 0,
  "metadata": {
    "colab": {
      "name": "Starter-SimpleTF-Reviews-Code.ipynb",
      "provenance": [],
      "collapsed_sections": []
    },
    "kernelspec": {
      "name": "python3",
      "display_name": "Python 3"
    },
    "language_info": {
      "name": "python"
    },
    "accelerator": "GPU"
  },
  "cells": [
    {
      "cell_type": "code",
      "source": [
        "%%capture\n",
        "! pip install simpletransformers==0.63.6\n",
        "# Pinned to version current as of 7 May 2022\n",
        "# versions: https://pypi.org/project/simpletransformers/"
      ],
      "metadata": {
        "id": "eSx6y1y6jio3"
      },
      "execution_count": null,
      "outputs": []
    },
    {
      "cell_type": "markdown",
      "source": [
        "Read more about models and developers:\n",
        "\n",
        "- Czert https://huggingface.co/UWB-AIR\n",
        "- Slavic-BERT https://huggingface.co/DeepPavlov/bert-base-bg-cs-pl-ru-cased\n",
        "- cst5 https://huggingface.co/azizbarank/cst5-base\n",
        "\n",
        "*Why only HuggingFace?* It's totally OK to have other models on your own site or spaCy or TFHub. During a workshop it's easier to use one source."
      ],
      "metadata": {
        "id": "_VrSzXyGjzjC"
      }
    },
    {
      "cell_type": "markdown",
      "source": [
        "## Understanding the tokenizer\n",
        "\n",
        "After seeing this tokenizer understands words (or sub-words)\n",
        "\n",
        "Change it to your model."
      ],
      "metadata": {
        "id": "5mWxtVuqlXlM"
      }
    },
    {
      "cell_type": "code",
      "source": [
        "from transformers import AutoTokenizer\n",
        "tokenizer = AutoTokenizer.from_pretrained('bert-base-cased')"
      ],
      "metadata": {
        "id": "2Y-o9L2zkbL0"
      },
      "execution_count": null,
      "outputs": []
    },
    {
      "cell_type": "code",
      "source": [
        "# Recognizing words\n",
        "tokenizer.tokenize('Ahoj Artur')"
      ],
      "metadata": {
        "colab": {
          "base_uri": "https://localhost:8080/"
        },
        "id": "L9OL_MjlklhI",
        "outputId": "2924c8ff-995b-4db8-8e35-afa1a5571c5d"
      },
      "execution_count": null,
      "outputs": [
        {
          "output_type": "execute_result",
          "data": {
            "text/plain": [
              "['Ah', '##o', '##j', 'Art', '##ur']"
            ]
          },
          "metadata": {},
          "execution_count": 3
        }
      ]
    },
    {
      "cell_type": "code",
      "source": [
        "# Encoding into IDs (which model will turn into vector / embeddings)\n",
        "tokenizer('')"
      ],
      "metadata": {
        "colab": {
          "base_uri": "https://localhost:8080/"
        },
        "id": "Ms086MLnlO5-",
        "outputId": "f9ef636e-c6ec-4fd2-a209-9f69a7d2d8f1"
      },
      "execution_count": null,
      "outputs": [
        {
          "output_type": "execute_result",
          "data": {
            "text/plain": [
              "{'input_ids': [101, 102], 'token_type_ids': [0, 0], 'attention_mask': [1, 1]}"
            ]
          },
          "metadata": {},
          "execution_count": 4
        }
      ]
    },
    {
      "cell_type": "code",
      "source": [
        "# Splitting up a word\n",
        "tokenizer.tokenize('?')"
      ],
      "metadata": {
        "colab": {
          "base_uri": "https://localhost:8080/"
        },
        "id": "aMRcvEFdlcmx",
        "outputId": "70599bcb-6a29-40e2-b27e-27878b6c860a"
      },
      "execution_count": null,
      "outputs": [
        {
          "output_type": "execute_result",
          "data": {
            "text/plain": [
              "['?']"
            ]
          },
          "metadata": {},
          "execution_count": 5
        }
      ]
    },
    {
      "cell_type": "code",
      "source": [
        "# Is it significant who has 1-token names in our model?\n",
        "tokenizer.tokenize('?')"
      ],
      "metadata": {
        "colab": {
          "base_uri": "https://localhost:8080/"
        },
        "id": "yIdZ21DWlo0k",
        "outputId": "f6d1b819-5d7a-4581-ea79-0405c415e9b9"
      },
      "execution_count": null,
      "outputs": [
        {
          "output_type": "execute_result",
          "data": {
            "text/plain": [
              "['?']"
            ]
          },
          "metadata": {},
          "execution_count": 6
        }
      ]
    },
    {
      "cell_type": "markdown",
      "source": [
        "## Dataset"
      ],
      "metadata": {
        "id": "yDasZblpL6yc"
      }
    },
    {
      "cell_type": "code",
      "source": [
        "! tar -xvf *.bz2"
      ],
      "metadata": {
        "colab": {
          "base_uri": "https://localhost:8080/"
        },
        "id": "ZIrSpw3aWhzt",
        "outputId": "4fb3b694-1345-4975-fff9-56da6d6596b0"
      },
      "execution_count": null,
      "outputs": [
        {
          "output_type": "stream",
          "name": "stdout",
          "text": [
            "csfd-90k-reviews-ranlp2013.xml\n"
          ]
        }
      ]
    },
    {
      "cell_type": "code",
      "source": [
        "import pandas as pd\n",
        "import xml.etree.ElementTree as ET\n",
        "\n",
        "xml_data = open('./csfd-90k-reviews-ranlp2013.xml', 'r').read()\n",
        "root = ET.XML(xml_data)\n",
        "\n",
        "rows = []\n",
        "for index, child in enumerate(root):\n",
        "  txt = child.findtext('text')\n",
        "  rating = int(child.attrib['origRating'])\n",
        "  rows.append([txt, rating])\n",
        "\n",
        "all_data = pd.DataFrame(rows, columns=['text', 'rating'])\n",
        "all_data.head()"
      ],
      "metadata": {
        "id": "HIc1lPOxL7fW"
      },
      "execution_count": null,
      "outputs": []
    },
    {
      "cell_type": "code",
      "source": [
        "len(all_data)"
      ],
      "metadata": {
        "id": "Rw7T8_ImM5QK"
      },
      "execution_count": null,
      "outputs": []
    },
    {
      "cell_type": "markdown",
      "source": [
        "Unfortunately this takes ~2 hours per epoch even after train-test split, and the workshop has limited time (AND CoLab is only open for 12-24 hours)."
      ],
      "metadata": {
        "id": "efsxInLHN4vg"
      }
    },
    {
      "cell_type": "code",
      "source": [
        "sample_data = all_data.sample(8_000, random_state=101)\n",
        "sample_data = all_data"
      ],
      "metadata": {
        "id": "oQOI_SEEM634"
      },
      "execution_count": null,
      "outputs": []
    },
    {
      "cell_type": "markdown",
      "source": [
        "**train/test split**"
      ],
      "metadata": {
        "id": "GWcaO2BTUC7H"
      }
    },
    {
      "cell_type": "markdown",
      "source": [
        "## Reproducibility"
      ],
      "metadata": {
        "id": "Slpfb5vvUMzo"
      }
    },
    {
      "cell_type": "code",
      "source": [
        "import random\n",
        "import torch\n",
        "\n",
        "seed = 1\n",
        "\n",
        "#np.random.seed(seed)\n",
        "random.seed(seed)\n",
        "torch.manual_seed(seed)\n",
        "torch.backends.cudnn.deterministic = True\n",
        "torch.backends.cudnn.benchmark = False"
      ],
      "metadata": {
        "id": "8vl22fP-UNHu"
      },
      "execution_count": null,
      "outputs": []
    },
    {
      "cell_type": "markdown",
      "source": [
        "## Downloading and fine-tuning the model\n",
        "\n",
        "SimpleTransformers on freezing layers: https://simpletransformers.ai/docs/tips-and-tricks/#train-custom-parameters-only"
      ],
      "metadata": {
        "id": "hNOE-EbamYlF"
      }
    },
    {
      "cell_type": "code",
      "source": [
        "from simpletransformers.classification import ClassificationModel\n",
        "\n",
        "model = ClassificationModel(\n",
        "    'bert',\n",
        "    'bert-base-uncased',\n",
        "    use_cuda=True, # GPU\n",
        "\n",
        "    # for classification\n",
        "    num_labels=len(?),\n",
        "    args={\n",
        "        'regression': False,\n",
        "        'reprocess_input_data': True,\n",
        "        'use_cached_eval_features': False,\n",
        "        'overwrite_output_dir': True,\n",
        "        'num_train_epochs': 1,\n",
        "    }\n",
        "\n",
        "    # for regression\n",
        "    num_labels=1,\n",
        "    args={\n",
        "        'regression': True,\n",
        "        'reprocess_input_data': True,\n",
        "        'use_cached_eval_features': False,\n",
        "        'overwrite_output_dir': True,\n",
        "        'num_train_epochs': 1,\n",
        "    }\n",
        ")"
      ],
      "metadata": {
        "id": "QKIcM6K1LBeH"
      },
      "execution_count": null,
      "outputs": []
    },
    {
      "cell_type": "code",
      "source": [
        "model.train_model(train_df)"
      ],
      "metadata": {
        "id": "L7CMAPbDLgPP"
      },
      "execution_count": null,
      "outputs": []
    },
    {
      "cell_type": "markdown",
      "source": [
        "## Predicting / evaluating"
      ],
      "metadata": {
        "id": "ajgFh61XKhTt"
      }
    },
    {
      "cell_type": "code",
      "source": [
        "# this line only really works on classification\n",
        "# result, model_outputs, wrong_predictions = model.eval_model(test_df)"
      ],
      "metadata": {
        "id": "IPWQ0hM0Mj3N"
      },
      "execution_count": null,
      "outputs": []
    },
    {
      "cell_type": "code",
      "source": [
        "predictions, raw_outputs = model.predict(test_df['text'].tolist())\n",
        "predictions[:10]"
      ],
      "metadata": {
        "id": "BJzSyZc4Pp3g"
      },
      "execution_count": null,
      "outputs": []
    },
    {
      "cell_type": "markdown",
      "source": [
        "## Exporting"
      ],
      "metadata": {
        "id": "X_NLuaYRKj3B"
      }
    },
    {
      "cell_type": "code",
      "source": [
        "# Downloading model\n",
        "! ls outputs/*.*"
      ],
      "metadata": {
        "id": "72bOyu3YOejI"
      },
      "execution_count": null,
      "outputs": []
    },
    {
      "cell_type": "code",
      "source": [
        "# See https://huggingface.co/docs/transformers/model_sharing\n",
        "from huggingface_hub import notebook_login\n",
        "notebook_login()"
      ],
      "metadata": {
        "id": "VNycfUoDUZYe"
      },
      "execution_count": null,
      "outputs": []
    },
    {
      "cell_type": "code",
      "source": [
        "tokenizer.push_to_hub(\"czech-movie-rating\")\n",
        "model.model.push_to_hub(\"czech-movie-rating\")"
      ],
      "metadata": {
        "id": "pgEDS2nFUnUq"
      },
      "execution_count": null,
      "outputs": []
    }
  ]
}