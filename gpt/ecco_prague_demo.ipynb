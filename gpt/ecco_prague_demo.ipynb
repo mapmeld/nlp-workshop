{
  "nbformat": 4,
  "nbformat_minor": 0,
  "metadata": {
    "colab": {
      "name": "ecco-prague-demo.ipynb",
      "provenance": [],
      "collapsed_sections": []
    },
    "kernelspec": {
      "name": "python3",
      "display_name": "Python 3"
    },
    "language_info": {
      "name": "python"
    }
  },
  "cells": [
    {
      "cell_type": "markdown",
      "source": [
        "Let's use [ecco](https://github.com/jalammar/ecco) with GPT-2 (small or medium) and see if we can get suggestions.\n",
        "\n",
        "**GPT-2 Medium is 345 Million params, compared to GPT-2 release (1.5 Billion params) and GPT-3 (175 Billion)**\n",
        "\n",
        "- gpt2-medium\n",
        "- monsoon-nlp/gpt-nyc\n",
        "- facebook/opt-350m\n",
        "- Czech: MU-NLPC/CzeGPT-2\n",
        "- Python: lvwerra/codeparrot-small\n",
        "\n",
        "-- Can we create interesting new demos?"
      ],
      "metadata": {
        "id": "7l7jZ1rjCkDS"
      }
    },
    {
      "cell_type": "code",
      "execution_count": null,
      "metadata": {
        "id": "Pqd-tlqd_dN3"
      },
      "outputs": [],
      "source": [
        "# ECCO library\n",
        "! pip install ecco --quiet\n",
        "\n",
        "# I added logger.info() to transformers so we can double-check our work, PR pending\n",
        "! git clone https://github.com/mapmeld/transformers\n",
        "! cd transformers && pip install . --quiet"
      ]
    },
    {
      "cell_type": "code",
      "source": [
        "# https://git-lfs.github.com/ if not on CoLab"
      ],
      "metadata": {
        "id": "JnlAQxDA_sm4"
      },
      "execution_count": null,
      "outputs": []
    },
    {
      "cell_type": "code",
      "source": [
        "# ecco expects one of a few model types so whatever model you use, clone to gpt2-medium directory\n",
        "! git clone https://huggingface.co/monsoon-nlp/gpt-nyc gpt2-medium"
      ],
      "metadata": {
        "id": "MTO3T-bE_3to"
      },
      "execution_count": null,
      "outputs": []
    },
    {
      "cell_type": "code",
      "source": [
        "import ecco\n",
        "lm = ecco.from_pretrained(\"gpt2-medium\")"
      ],
      "metadata": {
        "id": "JIezQMjf_f1L"
      },
      "execution_count": null,
      "outputs": []
    },
    {
      "cell_type": "code",
      "source": [
        "# Don't add a space or punctuation at the end\n",
        "prompt = \"Jamie is a student. Every day she wakes up and goes to\""
      ],
      "metadata": {
        "id": "Vyk6OhHVACKW"
      },
      "execution_count": null,
      "outputs": []
    },
    {
      "cell_type": "code",
      "source": [
        "output = lm.generate(prompt, generate=10, do_sample=False)\n",
        "output.layer_predictions(position=13, layer=23)\n",
        "# longer text will need +/- position\n",
        "# bigger models will need ++ layer\n",
        "# it's based on sub-word tokens, not just word count"
      ],
      "metadata": {
        "id": "GmrPB2UyAD9_"
      },
      "execution_count": null,
      "outputs": []
    },
    {
      "cell_type": "code",
      "source": [
        "output = lm.generate(\"What's the best bagel order? %%\", generate=20, do_sample=False)\n",
        "output.layer_predictions(position=13, layer=23)"
      ],
      "metadata": {
        "id": "t9lcSvgwqPq_"
      },
      "execution_count": null,
      "outputs": []
    },
    {
      "cell_type": "code",
      "source": [
        "output = lm.generate(\"What is your favorite MTA subway stop? %%\", generate=20, do_sample=False)\n",
        "output.layer_predictions(position=13, layer=23)"
      ],
      "metadata": {
        "colab": {
          "base_uri": "https://localhost:8080/",
          "height": 195
        },
        "id": "10m0dVaJqdek",
        "outputId": "32fe1a4d-e821-4df7-b0db-84ab731b5319"
      },
      "execution_count": null,
      "outputs": [
        {
          "output_type": "display_data",
          "data": {
            "text/plain": [
              "<IPython.core.display.HTML object>"
            ],
            "text/html": [
              "<html lang=\"en\">\n",
              "<script src=\"https://requirejs.org/docs/release/2.3.6/minified/require.js\"></script>\n",
              "<script>\n",
              "    var ecco_url = 'https://storage.googleapis.com/ml-intro/ecco/'\n",
              "    //var ecco_url = 'http://localhost:8000/'\n",
              "\n",
              "    if (window.ecco === undefined) window.ecco = {}\n",
              "\n",
              "    // Setup the paths of the script we'll be using\n",
              "    requirejs.config({\n",
              "        urlArgs: \"bust=\" + (new Date()).getTime(),\n",
              "        nodeRequire: require,\n",
              "        paths: {\n",
              "            d3: \"https://d3js.org/d3.v6.min\", // This is only for use in setup.html and basic.html\n",
              "            \"d3-array\": \"https://d3js.org/d3-array.v2.min\",\n",
              "            jquery: \"https://code.jquery.com/jquery-3.5.1.min\",\n",
              "            ecco: ecco_url + 'js/0.0.6/ecco-bundle.min',\n",
              "            xregexp: 'https://cdnjs.cloudflare.com/ajax/libs/xregexp/3.2.0/xregexp-all.min'\n",
              "        }\n",
              "    });\n",
              "\n",
              "    // Add the css file\n",
              "    //requirejs(['d3'],\n",
              "    //    function (d3) {\n",
              "    //        d3.select('#css').attr('href', ecco_url + 'html/styles.css')\n",
              "    //    })\n",
              "\n",
              "    console.log('Ecco initialize!!')\n",
              "\n",
              "    // returns a 'basic' object. basic.init() selects the html div we'll be\n",
              "    // rendering the html into, adds styles.css to the document.\n",
              "    define('basic', ['d3'],\n",
              "        function (d3) {\n",
              "            return {\n",
              "                init: function (viz_id = null) {\n",
              "                    if (viz_id == null) {\n",
              "                        viz_id = \"viz_\" + Math.round(Math.random() * 10000000)\n",
              "                    }\n",
              "                    // Select the div rendered below, change its id\n",
              "                    const div = d3.select('#basic').attr('id', viz_id),\n",
              "                        div_parent = d3.select('#' + viz_id).node().parentNode\n",
              "\n",
              "                    // Link to CSS file\n",
              "                    d3.select(div_parent).insert('link')\n",
              "                        .attr('rel', 'stylesheet')\n",
              "                        .attr('type', 'text/css')\n",
              "                        .attr('href', ecco_url + 'html/0.0.2/styles.css')\n",
              "\n",
              "                    return viz_id\n",
              "                }\n",
              "            }\n",
              "        }, function (err) {\n",
              "            console.log(err);\n",
              "        }\n",
              "    )\n",
              "</script>\n",
              "\n",
              "<head>\n",
              "    <link id='css' rel=\"stylesheet\" type=\"text/css\">\n",
              "</head>\n",
              "<div id=\"basic\"></div>\n"
            ]
          },
          "metadata": {}
        },
        {
          "output_type": "display_data",
          "data": {
            "text/plain": [
              "<IPython.core.display.Javascript object>"
            ],
            "application/javascript": [
              "\n",
              "         requirejs( ['basic', 'ecco'], function(basic, ecco){\n",
              "            basic.init('viz_190548') // Python needs to know the viz id. Used for each output token.\n",
              "            window.ecco['viz_190548'] = new ecco.renderOutputSequence({\n",
              "                    parentDiv: 'viz_190548',\n",
              "                    data: {\"tokens\": [{\"token\": \"What\", \"is_partial\": true, \"position\": 0, \"token_id\": 2061, \"type\": \"input\"}, {\"token\": \"is\", \"is_partial\": false, \"position\": 1, \"token_id\": 318, \"type\": \"input\"}, {\"token\": \"your\", \"is_partial\": false, \"position\": 2, \"token_id\": 534, \"type\": \"input\"}, {\"token\": \"favorite\", \"is_partial\": false, \"position\": 3, \"token_id\": 4004, \"type\": \"input\"}, {\"token\": \"MTA\", \"is_partial\": false, \"position\": 4, \"token_id\": 48824, \"type\": \"input\"}, {\"token\": \"subway\", \"is_partial\": false, \"position\": 5, \"token_id\": 19612, \"type\": \"input\"}, {\"token\": \"stop\", \"is_partial\": false, \"position\": 6, \"token_id\": 2245, \"type\": \"input\"}, {\"token\": \"?\", \"is_partial\": true, \"position\": 7, \"token_id\": 30, \"type\": \"input\"}, {\"token\": \"%%\", \"is_partial\": false, \"position\": 8, \"token_id\": 43313, \"type\": \"input\"}]},\n",
              "                    tokenization_config: {\"token_prefix\": \"\\u0120\", \"partial_token_prefix\": \"\"}\n",
              "            \n",
              "            })\n",
              "         }, function (err) {\n",
              "            console.log(err);\n",
              "        })\n",
              "        "
            ]
          },
          "metadata": {}
        },
        {
          "output_type": "stream",
          "name": "stderr",
          "text": [
            "Setting `pad_token_id` to `eos_token_id`:50256 for open-end generation.\n"
          ]
        },
        {
          "output_type": "display_data",
          "data": {
            "text/plain": [
              "<IPython.core.display.Javascript object>"
            ],
            "application/javascript": [
              "\n",
              "        // We don't really need these require scripts. But this is to avert\n",
              "        //this code from running before display_input_sequence which DOES require external files\n",
              "        requirejs(['basic', 'ecco'], function(basic, ecco){\n",
              "                console.log('addToken viz_id', 'viz_190548');\n",
              "                window.ecco['viz_190548'].addToken({\"token\": \"I\", \"is_partial\": false, \"token_id\": 314, \"position\": 9, \"type\": \"output\"})\n",
              "                window.ecco['viz_190548'].redraw()\n",
              "        })\n",
              "        "
            ]
          },
          "metadata": {}
        },
        {
          "output_type": "display_data",
          "data": {
            "text/plain": [
              "<IPython.core.display.Javascript object>"
            ],
            "application/javascript": [
              "\n",
              "        // We don't really need these require scripts. But this is to avert\n",
              "        //this code from running before display_input_sequence which DOES require external files\n",
              "        requirejs(['basic', 'ecco'], function(basic, ecco){\n",
              "                console.log('addToken viz_id', 'viz_190548');\n",
              "                window.ecco['viz_190548'].addToken({\"token\": \"like\", \"is_partial\": false, \"token_id\": 588, \"position\": 10, \"type\": \"output\"})\n",
              "                window.ecco['viz_190548'].redraw()\n",
              "        })\n",
              "        "
            ]
          },
          "metadata": {}
        },
        {
          "output_type": "display_data",
          "data": {
            "text/plain": [
              "<IPython.core.display.Javascript object>"
            ],
            "application/javascript": [
              "\n",
              "        // We don't really need these require scripts. But this is to avert\n",
              "        //this code from running before display_input_sequence which DOES require external files\n",
              "        requirejs(['basic', 'ecco'], function(basic, ecco){\n",
              "                console.log('addToken viz_id', 'viz_190548');\n",
              "                window.ecco['viz_190548'].addToken({\"token\": \"the\", \"is_partial\": false, \"token_id\": 262, \"position\": 11, \"type\": \"output\"})\n",
              "                window.ecco['viz_190548'].redraw()\n",
              "        })\n",
              "        "
            ]
          },
          "metadata": {}
        },
        {
          "output_type": "display_data",
          "data": {
            "text/plain": [
              "<IPython.core.display.Javascript object>"
            ],
            "application/javascript": [
              "\n",
              "        // We don't really need these require scripts. But this is to avert\n",
              "        //this code from running before display_input_sequence which DOES require external files\n",
              "        requirejs(['basic', 'ecco'], function(basic, ecco){\n",
              "                console.log('addToken viz_id', 'viz_190548');\n",
              "                window.ecco['viz_190548'].addToken({\"token\": \"34\", \"is_partial\": false, \"token_id\": 4974, \"position\": 12, \"type\": \"output\"})\n",
              "                window.ecco['viz_190548'].redraw()\n",
              "        })\n",
              "        "
            ]
          },
          "metadata": {}
        },
        {
          "output_type": "display_data",
          "data": {
            "text/plain": [
              "<IPython.core.display.Javascript object>"
            ],
            "application/javascript": [
              "\n",
              "        // We don't really need these require scripts. But this is to avert\n",
              "        //this code from running before display_input_sequence which DOES require external files\n",
              "        requirejs(['basic', 'ecco'], function(basic, ecco){\n",
              "                console.log('addToken viz_id', 'viz_190548');\n",
              "                window.ecco['viz_190548'].addToken({\"token\": \"th\", \"is_partial\": true, \"token_id\": 400, \"position\": 13, \"type\": \"output\"})\n",
              "                window.ecco['viz_190548'].redraw()\n",
              "        })\n",
              "        "
            ]
          },
          "metadata": {}
        },
        {
          "output_type": "display_data",
          "data": {
            "text/plain": [
              "<IPython.core.display.Javascript object>"
            ],
            "application/javascript": [
              "\n",
              "        // We don't really need these require scripts. But this is to avert\n",
              "        //this code from running before display_input_sequence which DOES require external files\n",
              "        requirejs(['basic', 'ecco'], function(basic, ecco){\n",
              "                console.log('addToken viz_id', 'viz_190548');\n",
              "                window.ecco['viz_190548'].addToken({\"token\": \"Street\", \"is_partial\": false, \"token_id\": 3530, \"position\": 14, \"type\": \"output\"})\n",
              "                window.ecco['viz_190548'].redraw()\n",
              "        })\n",
              "        "
            ]
          },
          "metadata": {}
        },
        {
          "output_type": "display_data",
          "data": {
            "text/plain": [
              "<IPython.core.display.Javascript object>"
            ],
            "application/javascript": [
              "\n",
              "        // We don't really need these require scripts. But this is to avert\n",
              "        //this code from running before display_input_sequence which DOES require external files\n",
              "        requirejs(['basic', 'ecco'], function(basic, ecco){\n",
              "                console.log('addToken viz_id', 'viz_190548');\n",
              "                window.ecco['viz_190548'].addToken({\"token\": \"one\", \"is_partial\": false, \"token_id\": 530, \"position\": 15, \"type\": \"output\"})\n",
              "                window.ecco['viz_190548'].redraw()\n",
              "        })\n",
              "        "
            ]
          },
          "metadata": {}
        },
        {
          "output_type": "display_data",
          "data": {
            "text/plain": [
              "<IPython.core.display.Javascript object>"
            ],
            "application/javascript": [
              "\n",
              "        // We don't really need these require scripts. But this is to avert\n",
              "        //this code from running before display_input_sequence which DOES require external files\n",
              "        requirejs(['basic', 'ecco'], function(basic, ecco){\n",
              "                console.log('addToken viz_id', 'viz_190548');\n",
              "                window.ecco['viz_190548'].addToken({\"token\": \".\", \"is_partial\": true, \"token_id\": 13, \"position\": 16, \"type\": \"output\"})\n",
              "                window.ecco['viz_190548'].redraw()\n",
              "        })\n",
              "        "
            ]
          },
          "metadata": {}
        },
        {
          "output_type": "display_data",
          "data": {
            "text/plain": [
              "<IPython.core.display.Javascript object>"
            ],
            "application/javascript": [
              "\n",
              "        // We don't really need these require scripts. But this is to avert\n",
              "        //this code from running before display_input_sequence which DOES require external files\n",
              "        requirejs(['basic', 'ecco'], function(basic, ecco){\n",
              "                console.log('addToken viz_id', 'viz_190548');\n",
              "                window.ecco['viz_190548'].addToken({\"token\": \"<|endoftext|>\", \"is_partial\": true, \"token_id\": 50256, \"position\": 17, \"type\": \"output\"})\n",
              "                window.ecco['viz_190548'].redraw()\n",
              "        })\n",
              "        "
            ]
          },
          "metadata": {}
        },
        {
          "output_type": "display_data",
          "data": {
            "text/plain": [
              "<IPython.core.display.HTML object>"
            ],
            "text/html": [
              "<html lang=\"en\">\n",
              "<script src=\"https://requirejs.org/docs/release/2.3.6/minified/require.js\"></script>\n",
              "<script>\n",
              "    var ecco_url = 'https://storage.googleapis.com/ml-intro/ecco/'\n",
              "    //var ecco_url = 'http://localhost:8000/'\n",
              "\n",
              "    if (window.ecco === undefined) window.ecco = {}\n",
              "\n",
              "    // Setup the paths of the script we'll be using\n",
              "    requirejs.config({\n",
              "        urlArgs: \"bust=\" + (new Date()).getTime(),\n",
              "        nodeRequire: require,\n",
              "        paths: {\n",
              "            d3: \"https://d3js.org/d3.v6.min\", // This is only for use in setup.html and basic.html\n",
              "            \"d3-array\": \"https://d3js.org/d3-array.v2.min\",\n",
              "            jquery: \"https://code.jquery.com/jquery-3.5.1.min\",\n",
              "            ecco: ecco_url + 'js/0.0.6/ecco-bundle.min',\n",
              "            xregexp: 'https://cdnjs.cloudflare.com/ajax/libs/xregexp/3.2.0/xregexp-all.min'\n",
              "        }\n",
              "    });\n",
              "\n",
              "    // Add the css file\n",
              "    //requirejs(['d3'],\n",
              "    //    function (d3) {\n",
              "    //        d3.select('#css').attr('href', ecco_url + 'html/styles.css')\n",
              "    //    })\n",
              "\n",
              "    console.log('Ecco initialize!!')\n",
              "\n",
              "    // returns a 'basic' object. basic.init() selects the html div we'll be\n",
              "    // rendering the html into, adds styles.css to the document.\n",
              "    define('basic', ['d3'],\n",
              "        function (d3) {\n",
              "            return {\n",
              "                init: function (viz_id = null) {\n",
              "                    if (viz_id == null) {\n",
              "                        viz_id = \"viz_\" + Math.round(Math.random() * 10000000)\n",
              "                    }\n",
              "                    // Select the div rendered below, change its id\n",
              "                    const div = d3.select('#basic').attr('id', viz_id),\n",
              "                        div_parent = d3.select('#' + viz_id).node().parentNode\n",
              "\n",
              "                    // Link to CSS file\n",
              "                    d3.select(div_parent).insert('link')\n",
              "                        .attr('rel', 'stylesheet')\n",
              "                        .attr('type', 'text/css')\n",
              "                        .attr('href', ecco_url + 'html/0.0.2/styles.css')\n",
              "\n",
              "                    return viz_id\n",
              "                }\n",
              "            }\n",
              "        }, function (err) {\n",
              "            console.log(err);\n",
              "        }\n",
              "    )\n",
              "</script>\n",
              "\n",
              "<head>\n",
              "    <link id='css' rel=\"stylesheet\" type=\"text/css\">\n",
              "</head>\n",
              "<div id=\"basic\"></div>\n"
            ]
          },
          "metadata": {}
        },
        {
          "output_type": "display_data",
          "data": {
            "text/plain": [
              "<IPython.core.display.Javascript object>"
            ],
            "application/javascript": [
              "\n",
              "         requirejs(['basic', 'ecco'], function(basic, ecco){\n",
              "            const viz_id = basic.init()\n",
              "\n",
              "\n",
              "            let pred = new ecco.LayerPredictions({\n",
              "                parentDiv: viz_id,\n",
              "                data:[[{\"token\": \"th\", \"prob\": \"0.99086505\", \"ranking\": 1, \"layer\": 23}, {\"token\": \" street\", \"prob\": \"0.0019548072\", \"ranking\": 2, \"layer\": 23}, {\"token\": \"/\", \"prob\": \"0.0016392886\", \"ranking\": 3, \"layer\": 23}, {\"token\": \" th\", \"prob\": \"0.0009651818\", \"ranking\": 4, \"layer\": 23}, {\"token\": \",\", \"prob\": \"0.0005541325\", \"ranking\": 5, \"layer\": 23}, {\"token\": \" St\", \"prob\": \"0.000518888\", \"ranking\": 6, \"layer\": 23}, {\"token\": \" Street\", \"prob\": \"0.00042774534\", \"ranking\": 7, \"layer\": 23}, {\"token\": \" between\", \"prob\": \"0.00037812418\", \"ranking\": 8, \"layer\": 23}, {\"token\": \" at\", \"prob\": \"0.00035684253\", \"ranking\": 9, \"layer\": 23}, {\"token\": \"st\", \"prob\": \"0.00011975182\", \"ranking\": 10, \"layer\": 23}]]\n",
              "            })\n",
              "            pred.init()\n",
              "         }, function (err) {\n",
              "            console.log(viz_id, err);\n",
              "        })"
            ]
          },
          "metadata": {}
        }
      ]
    },
    {
      "cell_type": "markdown",
      "source": [
        "## Other prompts: TRAIN"
      ],
      "metadata": {
        "id": "fVdyvTnu0sUN"
      }
    },
    {
      "cell_type": "code",
      "source": [
        "p2 = \"Don't board the train without\"\n",
        "output2 = lm.generate(p2, generate=10, do_sample=False)\n",
        "output2.layer_predictions(position=6, layer=23)"
      ],
      "metadata": {
        "id": "v5KHf1Gy0uN6",
        "colab": {
          "base_uri": "https://localhost:8080/",
          "height": 195
        },
        "outputId": "5aeecebe-e62c-4737-a5f1-b71d5b88593e"
      },
      "execution_count": null,
      "outputs": [
        {
          "output_type": "display_data",
          "data": {
            "text/plain": [
              "<IPython.core.display.HTML object>"
            ],
            "text/html": [
              "<html lang=\"en\">\n",
              "<script src=\"https://requirejs.org/docs/release/2.3.6/minified/require.js\"></script>\n",
              "<script>\n",
              "    var ecco_url = 'https://storage.googleapis.com/ml-intro/ecco/'\n",
              "    //var ecco_url = 'http://localhost:8000/'\n",
              "\n",
              "    if (window.ecco === undefined) window.ecco = {}\n",
              "\n",
              "    // Setup the paths of the script we'll be using\n",
              "    requirejs.config({\n",
              "        urlArgs: \"bust=\" + (new Date()).getTime(),\n",
              "        nodeRequire: require,\n",
              "        paths: {\n",
              "            d3: \"https://d3js.org/d3.v6.min\", // This is only for use in setup.html and basic.html\n",
              "            \"d3-array\": \"https://d3js.org/d3-array.v2.min\",\n",
              "            jquery: \"https://code.jquery.com/jquery-3.5.1.min\",\n",
              "            ecco: ecco_url + 'js/0.0.6/ecco-bundle.min',\n",
              "            xregexp: 'https://cdnjs.cloudflare.com/ajax/libs/xregexp/3.2.0/xregexp-all.min'\n",
              "        }\n",
              "    });\n",
              "\n",
              "    // Add the css file\n",
              "    //requirejs(['d3'],\n",
              "    //    function (d3) {\n",
              "    //        d3.select('#css').attr('href', ecco_url + 'html/styles.css')\n",
              "    //    })\n",
              "\n",
              "    console.log('Ecco initialize!!')\n",
              "\n",
              "    // returns a 'basic' object. basic.init() selects the html div we'll be\n",
              "    // rendering the html into, adds styles.css to the document.\n",
              "    define('basic', ['d3'],\n",
              "        function (d3) {\n",
              "            return {\n",
              "                init: function (viz_id = null) {\n",
              "                    if (viz_id == null) {\n",
              "                        viz_id = \"viz_\" + Math.round(Math.random() * 10000000)\n",
              "                    }\n",
              "                    // Select the div rendered below, change its id\n",
              "                    const div = d3.select('#basic').attr('id', viz_id),\n",
              "                        div_parent = d3.select('#' + viz_id).node().parentNode\n",
              "\n",
              "                    // Link to CSS file\n",
              "                    d3.select(div_parent).insert('link')\n",
              "                        .attr('rel', 'stylesheet')\n",
              "                        .attr('type', 'text/css')\n",
              "                        .attr('href', ecco_url + 'html/0.0.2/styles.css')\n",
              "\n",
              "                    return viz_id\n",
              "                }\n",
              "            }\n",
              "        }, function (err) {\n",
              "            console.log(err);\n",
              "        }\n",
              "    )\n",
              "</script>\n",
              "\n",
              "<head>\n",
              "    <link id='css' rel=\"stylesheet\" type=\"text/css\">\n",
              "</head>\n",
              "<div id=\"basic\"></div>\n"
            ]
          },
          "metadata": {}
        },
        {
          "output_type": "display_data",
          "data": {
            "text/plain": [
              "<IPython.core.display.Javascript object>"
            ],
            "application/javascript": [
              "\n",
              "         requirejs( ['basic', 'ecco'], function(basic, ecco){\n",
              "            basic.init('viz_756188') // Python needs to know the viz id. Used for each output token.\n",
              "            window.ecco['viz_756188'] = new ecco.renderOutputSequence({\n",
              "                    parentDiv: 'viz_756188',\n",
              "                    data: {\"tokens\": [{\"token\": \"Don\", \"is_partial\": true, \"position\": 0, \"token_id\": 3987, \"type\": \"input\"}, {\"token\": \"'t\", \"is_partial\": true, \"position\": 1, \"token_id\": 470, \"type\": \"input\"}, {\"token\": \"board\", \"is_partial\": false, \"position\": 2, \"token_id\": 3096, \"type\": \"input\"}, {\"token\": \"the\", \"is_partial\": false, \"position\": 3, \"token_id\": 262, \"type\": \"input\"}, {\"token\": \"train\", \"is_partial\": false, \"position\": 4, \"token_id\": 4512, \"type\": \"input\"}, {\"token\": \"without\", \"is_partial\": false, \"position\": 5, \"token_id\": 1231, \"type\": \"input\"}]},\n",
              "                    tokenization_config: {\"token_prefix\": \"\\u0120\", \"partial_token_prefix\": \"\"}\n",
              "            \n",
              "            })\n",
              "         }, function (err) {\n",
              "            console.log(err);\n",
              "        })\n",
              "        "
            ]
          },
          "metadata": {}
        },
        {
          "output_type": "stream",
          "name": "stderr",
          "text": [
            "Setting `pad_token_id` to `eos_token_id`:50256 for open-end generation.\n"
          ]
        },
        {
          "output_type": "display_data",
          "data": {
            "text/plain": [
              "<IPython.core.display.Javascript object>"
            ],
            "application/javascript": [
              "\n",
              "        // We don't really need these require scripts. But this is to avert\n",
              "        //this code from running before display_input_sequence which DOES require external files\n",
              "        requirejs(['basic', 'ecco'], function(basic, ecco){\n",
              "                console.log('addToken viz_id', 'viz_756188');\n",
              "                window.ecco['viz_756188'].addToken({\"token\": \"a\", \"is_partial\": false, \"token_id\": 257, \"position\": 6, \"type\": \"output\"})\n",
              "                window.ecco['viz_756188'].redraw()\n",
              "        })\n",
              "        "
            ]
          },
          "metadata": {}
        },
        {
          "output_type": "display_data",
          "data": {
            "text/plain": [
              "<IPython.core.display.Javascript object>"
            ],
            "application/javascript": [
              "\n",
              "        // We don't really need these require scripts. But this is to avert\n",
              "        //this code from running before display_input_sequence which DOES require external files\n",
              "        requirejs(['basic', 'ecco'], function(basic, ecco){\n",
              "                console.log('addToken viz_id', 'viz_756188');\n",
              "                window.ecco['viz_756188'].addToken({\"token\": \"ticket\", \"is_partial\": false, \"token_id\": 7846, \"position\": 7, \"type\": \"output\"})\n",
              "                window.ecco['viz_756188'].redraw()\n",
              "        })\n",
              "        "
            ]
          },
          "metadata": {}
        },
        {
          "output_type": "display_data",
          "data": {
            "text/plain": [
              "<IPython.core.display.Javascript object>"
            ],
            "application/javascript": [
              "\n",
              "        // We don't really need these require scripts. But this is to avert\n",
              "        //this code from running before display_input_sequence which DOES require external files\n",
              "        requirejs(['basic', 'ecco'], function(basic, ecco){\n",
              "                console.log('addToken viz_id', 'viz_756188');\n",
              "                window.ecco['viz_756188'].addToken({\"token\": \",\", \"is_partial\": true, \"token_id\": 11, \"position\": 8, \"type\": \"output\"})\n",
              "                window.ecco['viz_756188'].redraw()\n",
              "        })\n",
              "        "
            ]
          },
          "metadata": {}
        },
        {
          "output_type": "display_data",
          "data": {
            "text/plain": [
              "<IPython.core.display.Javascript object>"
            ],
            "application/javascript": [
              "\n",
              "        // We don't really need these require scripts. But this is to avert\n",
              "        //this code from running before display_input_sequence which DOES require external files\n",
              "        requirejs(['basic', 'ecco'], function(basic, ecco){\n",
              "                console.log('addToken viz_id', 'viz_756188');\n",
              "                window.ecco['viz_756188'].addToken({\"token\": \"especially\", \"is_partial\": false, \"token_id\": 2592, \"position\": 9, \"type\": \"output\"})\n",
              "                window.ecco['viz_756188'].redraw()\n",
              "        })\n",
              "        "
            ]
          },
          "metadata": {}
        },
        {
          "output_type": "display_data",
          "data": {
            "text/plain": [
              "<IPython.core.display.Javascript object>"
            ],
            "application/javascript": [
              "\n",
              "        // We don't really need these require scripts. But this is to avert\n",
              "        //this code from running before display_input_sequence which DOES require external files\n",
              "        requirejs(['basic', 'ecco'], function(basic, ecco){\n",
              "                console.log('addToken viz_id', 'viz_756188');\n",
              "                window.ecco['viz_756188'].addToken({\"token\": \"at\", \"is_partial\": false, \"token_id\": 379, \"position\": 10, \"type\": \"output\"})\n",
              "                window.ecco['viz_756188'].redraw()\n",
              "        })\n",
              "        "
            ]
          },
          "metadata": {}
        },
        {
          "output_type": "display_data",
          "data": {
            "text/plain": [
              "<IPython.core.display.Javascript object>"
            ],
            "application/javascript": [
              "\n",
              "        // We don't really need these require scripts. But this is to avert\n",
              "        //this code from running before display_input_sequence which DOES require external files\n",
              "        requirejs(['basic', 'ecco'], function(basic, ecco){\n",
              "                console.log('addToken viz_id', 'viz_756188');\n",
              "                window.ecco['viz_756188'].addToken({\"token\": \"rush\", \"is_partial\": false, \"token_id\": 10484, \"position\": 11, \"type\": \"output\"})\n",
              "                window.ecco['viz_756188'].redraw()\n",
              "        })\n",
              "        "
            ]
          },
          "metadata": {}
        },
        {
          "output_type": "display_data",
          "data": {
            "text/plain": [
              "<IPython.core.display.Javascript object>"
            ],
            "application/javascript": [
              "\n",
              "        // We don't really need these require scripts. But this is to avert\n",
              "        //this code from running before display_input_sequence which DOES require external files\n",
              "        requirejs(['basic', 'ecco'], function(basic, ecco){\n",
              "                console.log('addToken viz_id', 'viz_756188');\n",
              "                window.ecco['viz_756188'].addToken({\"token\": \"hour\", \"is_partial\": false, \"token_id\": 1711, \"position\": 12, \"type\": \"output\"})\n",
              "                window.ecco['viz_756188'].redraw()\n",
              "        })\n",
              "        "
            ]
          },
          "metadata": {}
        },
        {
          "output_type": "display_data",
          "data": {
            "text/plain": [
              "<IPython.core.display.Javascript object>"
            ],
            "application/javascript": [
              "\n",
              "        // We don't really need these require scripts. But this is to avert\n",
              "        //this code from running before display_input_sequence which DOES require external files\n",
              "        requirejs(['basic', 'ecco'], function(basic, ecco){\n",
              "                console.log('addToken viz_id', 'viz_756188');\n",
              "                window.ecco['viz_756188'].addToken({\"token\": \".\", \"is_partial\": true, \"token_id\": 13, \"position\": 13, \"type\": \"output\"})\n",
              "                window.ecco['viz_756188'].redraw()\n",
              "        })\n",
              "        "
            ]
          },
          "metadata": {}
        },
        {
          "output_type": "display_data",
          "data": {
            "text/plain": [
              "<IPython.core.display.Javascript object>"
            ],
            "application/javascript": [
              "\n",
              "        // We don't really need these require scripts. But this is to avert\n",
              "        //this code from running before display_input_sequence which DOES require external files\n",
              "        requirejs(['basic', 'ecco'], function(basic, ecco){\n",
              "                console.log('addToken viz_id', 'viz_756188');\n",
              "                window.ecco['viz_756188'].addToken({\"token\": \"-\", \"is_partial\": false, \"token_id\": 532, \"position\": 14, \"type\": \"output\"})\n",
              "                window.ecco['viz_756188'].redraw()\n",
              "        })\n",
              "        "
            ]
          },
          "metadata": {}
        },
        {
          "output_type": "display_data",
          "data": {
            "text/plain": [
              "<IPython.core.display.Javascript object>"
            ],
            "application/javascript": [
              "\n",
              "        // We don't really need these require scripts. But this is to avert\n",
              "        //this code from running before display_input_sequence which DOES require external files\n",
              "        requirejs(['basic', 'ecco'], function(basic, ecco){\n",
              "                console.log('addToken viz_id', 'viz_756188');\n",
              "                window.ecco['viz_756188'].addToken({\"token\": \"[\", \"is_partial\": false, \"token_id\": 685, \"position\": 15, \"type\": \"output\"})\n",
              "                window.ecco['viz_756188'].redraw()\n",
              "        })\n",
              "        "
            ]
          },
          "metadata": {}
        },
        {
          "output_type": "display_data",
          "data": {
            "text/plain": [
              "<IPython.core.display.HTML object>"
            ],
            "text/html": [
              "<html lang=\"en\">\n",
              "<script src=\"https://requirejs.org/docs/release/2.3.6/minified/require.js\"></script>\n",
              "<script>\n",
              "    var ecco_url = 'https://storage.googleapis.com/ml-intro/ecco/'\n",
              "    //var ecco_url = 'http://localhost:8000/'\n",
              "\n",
              "    if (window.ecco === undefined) window.ecco = {}\n",
              "\n",
              "    // Setup the paths of the script we'll be using\n",
              "    requirejs.config({\n",
              "        urlArgs: \"bust=\" + (new Date()).getTime(),\n",
              "        nodeRequire: require,\n",
              "        paths: {\n",
              "            d3: \"https://d3js.org/d3.v6.min\", // This is only for use in setup.html and basic.html\n",
              "            \"d3-array\": \"https://d3js.org/d3-array.v2.min\",\n",
              "            jquery: \"https://code.jquery.com/jquery-3.5.1.min\",\n",
              "            ecco: ecco_url + 'js/0.0.6/ecco-bundle.min',\n",
              "            xregexp: 'https://cdnjs.cloudflare.com/ajax/libs/xregexp/3.2.0/xregexp-all.min'\n",
              "        }\n",
              "    });\n",
              "\n",
              "    // Add the css file\n",
              "    //requirejs(['d3'],\n",
              "    //    function (d3) {\n",
              "    //        d3.select('#css').attr('href', ecco_url + 'html/styles.css')\n",
              "    //    })\n",
              "\n",
              "    console.log('Ecco initialize!!')\n",
              "\n",
              "    // returns a 'basic' object. basic.init() selects the html div we'll be\n",
              "    // rendering the html into, adds styles.css to the document.\n",
              "    define('basic', ['d3'],\n",
              "        function (d3) {\n",
              "            return {\n",
              "                init: function (viz_id = null) {\n",
              "                    if (viz_id == null) {\n",
              "                        viz_id = \"viz_\" + Math.round(Math.random() * 10000000)\n",
              "                    }\n",
              "                    // Select the div rendered below, change its id\n",
              "                    const div = d3.select('#basic').attr('id', viz_id),\n",
              "                        div_parent = d3.select('#' + viz_id).node().parentNode\n",
              "\n",
              "                    // Link to CSS file\n",
              "                    d3.select(div_parent).insert('link')\n",
              "                        .attr('rel', 'stylesheet')\n",
              "                        .attr('type', 'text/css')\n",
              "                        .attr('href', ecco_url + 'html/0.0.2/styles.css')\n",
              "\n",
              "                    return viz_id\n",
              "                }\n",
              "            }\n",
              "        }, function (err) {\n",
              "            console.log(err);\n",
              "        }\n",
              "    )\n",
              "</script>\n",
              "\n",
              "<head>\n",
              "    <link id='css' rel=\"stylesheet\" type=\"text/css\">\n",
              "</head>\n",
              "<div id=\"basic\"></div>\n"
            ]
          },
          "metadata": {}
        },
        {
          "output_type": "display_data",
          "data": {
            "text/plain": [
              "<IPython.core.display.Javascript object>"
            ],
            "application/javascript": [
              "\n",
              "         requirejs(['basic', 'ecco'], function(basic, ecco){\n",
              "            const viz_id = basic.init()\n",
              "\n",
              "\n",
              "            let pred = new ecco.LayerPredictions({\n",
              "                parentDiv: viz_id,\n",
              "                data:[[{\"token\": \" a\", \"prob\": \"0.4143379\", \"ranking\": 1, \"layer\": 23}, {\"token\": \" paying\", \"prob\": \"0.38129628\", \"ranking\": 2, \"layer\": 23}, {\"token\": \" checking\", \"prob\": \"0.05590495\", \"ranking\": 3, \"layer\": 23}, {\"token\": \" looking\", \"prob\": \"0.04465343\", \"ranking\": 4, \"layer\": 23}, {\"token\": \" an\", \"prob\": \"0.019372927\", \"ranking\": 5, \"layer\": 23}, {\"token\": \" \", \"prob\": \"0.009063372\", \"ranking\": 6, \"layer\": 23}, {\"token\": \" putting\", \"prob\": \"0.008673311\", \"ranking\": 7, \"layer\": 23}, {\"token\": \" telling\", \"prob\": \"0.0036841994\", \"ranking\": 8, \"layer\": 23}, {\"token\": \" cash\", \"prob\": \"0.0032160678\", \"ranking\": 9, \"layer\": 23}, {\"token\": \" changing\", \"prob\": \"0.0030303865\", \"ranking\": 10, \"layer\": 23}]]\n",
              "            })\n",
              "            pred.init()\n",
              "         }, function (err) {\n",
              "            console.log(viz_id, err);\n",
              "        })"
            ]
          },
          "metadata": {}
        }
      ]
    },
    {
      "cell_type": "code",
      "source": [
        "p2 = \"Due to a public health order, don't board the train without a\"\n",
        "output2 = lm.generate(p2, generate=5, do_sample=False)\n",
        "output2.layer_predictions(position=14, layer=23)"
      ],
      "metadata": {
        "id": "m9eze3fz086C",
        "colab": {
          "base_uri": "https://localhost:8080/",
          "height": 195
        },
        "outputId": "8db97ae2-0df6-4d08-a242-5c2aa50e6308"
      },
      "execution_count": null,
      "outputs": [
        {
          "output_type": "display_data",
          "data": {
            "text/plain": [
              "<IPython.core.display.HTML object>"
            ],
            "text/html": [
              "<html lang=\"en\">\n",
              "<script src=\"https://requirejs.org/docs/release/2.3.6/minified/require.js\"></script>\n",
              "<script>\n",
              "    var ecco_url = 'https://storage.googleapis.com/ml-intro/ecco/'\n",
              "    //var ecco_url = 'http://localhost:8000/'\n",
              "\n",
              "    if (window.ecco === undefined) window.ecco = {}\n",
              "\n",
              "    // Setup the paths of the script we'll be using\n",
              "    requirejs.config({\n",
              "        urlArgs: \"bust=\" + (new Date()).getTime(),\n",
              "        nodeRequire: require,\n",
              "        paths: {\n",
              "            d3: \"https://d3js.org/d3.v6.min\", // This is only for use in setup.html and basic.html\n",
              "            \"d3-array\": \"https://d3js.org/d3-array.v2.min\",\n",
              "            jquery: \"https://code.jquery.com/jquery-3.5.1.min\",\n",
              "            ecco: ecco_url + 'js/0.0.6/ecco-bundle.min',\n",
              "            xregexp: 'https://cdnjs.cloudflare.com/ajax/libs/xregexp/3.2.0/xregexp-all.min'\n",
              "        }\n",
              "    });\n",
              "\n",
              "    // Add the css file\n",
              "    //requirejs(['d3'],\n",
              "    //    function (d3) {\n",
              "    //        d3.select('#css').attr('href', ecco_url + 'html/styles.css')\n",
              "    //    })\n",
              "\n",
              "    console.log('Ecco initialize!!')\n",
              "\n",
              "    // returns a 'basic' object. basic.init() selects the html div we'll be\n",
              "    // rendering the html into, adds styles.css to the document.\n",
              "    define('basic', ['d3'],\n",
              "        function (d3) {\n",
              "            return {\n",
              "                init: function (viz_id = null) {\n",
              "                    if (viz_id == null) {\n",
              "                        viz_id = \"viz_\" + Math.round(Math.random() * 10000000)\n",
              "                    }\n",
              "                    // Select the div rendered below, change its id\n",
              "                    const div = d3.select('#basic').attr('id', viz_id),\n",
              "                        div_parent = d3.select('#' + viz_id).node().parentNode\n",
              "\n",
              "                    // Link to CSS file\n",
              "                    d3.select(div_parent).insert('link')\n",
              "                        .attr('rel', 'stylesheet')\n",
              "                        .attr('type', 'text/css')\n",
              "                        .attr('href', ecco_url + 'html/0.0.2/styles.css')\n",
              "\n",
              "                    return viz_id\n",
              "                }\n",
              "            }\n",
              "        }, function (err) {\n",
              "            console.log(err);\n",
              "        }\n",
              "    )\n",
              "</script>\n",
              "\n",
              "<head>\n",
              "    <link id='css' rel=\"stylesheet\" type=\"text/css\">\n",
              "</head>\n",
              "<div id=\"basic\"></div>\n"
            ]
          },
          "metadata": {}
        },
        {
          "output_type": "display_data",
          "data": {
            "text/plain": [
              "<IPython.core.display.Javascript object>"
            ],
            "application/javascript": [
              "\n",
              "         requirejs( ['basic', 'ecco'], function(basic, ecco){\n",
              "            basic.init('viz_426763') // Python needs to know the viz id. Used for each output token.\n",
              "            window.ecco['viz_426763'] = new ecco.renderOutputSequence({\n",
              "                    parentDiv: 'viz_426763',\n",
              "                    data: {\"tokens\": [{\"token\": \"Due\", \"is_partial\": true, \"position\": 0, \"token_id\": 22229, \"type\": \"input\"}, {\"token\": \"to\", \"is_partial\": false, \"position\": 1, \"token_id\": 284, \"type\": \"input\"}, {\"token\": \"a\", \"is_partial\": false, \"position\": 2, \"token_id\": 257, \"type\": \"input\"}, {\"token\": \"public\", \"is_partial\": false, \"position\": 3, \"token_id\": 1171, \"type\": \"input\"}, {\"token\": \"health\", \"is_partial\": false, \"position\": 4, \"token_id\": 1535, \"type\": \"input\"}, {\"token\": \"order\", \"is_partial\": false, \"position\": 5, \"token_id\": 1502, \"type\": \"input\"}, {\"token\": \",\", \"is_partial\": true, \"position\": 6, \"token_id\": 11, \"type\": \"input\"}, {\"token\": \"don\", \"is_partial\": false, \"position\": 7, \"token_id\": 836, \"type\": \"input\"}, {\"token\": \"'t\", \"is_partial\": true, \"position\": 8, \"token_id\": 470, \"type\": \"input\"}, {\"token\": \"board\", \"is_partial\": false, \"position\": 9, \"token_id\": 3096, \"type\": \"input\"}, {\"token\": \"the\", \"is_partial\": false, \"position\": 10, \"token_id\": 262, \"type\": \"input\"}, {\"token\": \"train\", \"is_partial\": false, \"position\": 11, \"token_id\": 4512, \"type\": \"input\"}, {\"token\": \"without\", \"is_partial\": false, \"position\": 12, \"token_id\": 1231, \"type\": \"input\"}, {\"token\": \"a\", \"is_partial\": false, \"position\": 13, \"token_id\": 257, \"type\": \"input\"}]},\n",
              "                    tokenization_config: {\"token_prefix\": \"\\u0120\", \"partial_token_prefix\": \"\"}\n",
              "            \n",
              "            })\n",
              "         }, function (err) {\n",
              "            console.log(err);\n",
              "        })\n",
              "        "
            ]
          },
          "metadata": {}
        },
        {
          "output_type": "stream",
          "name": "stderr",
          "text": [
            "Setting `pad_token_id` to `eos_token_id`:50256 for open-end generation.\n"
          ]
        },
        {
          "output_type": "display_data",
          "data": {
            "text/plain": [
              "<IPython.core.display.Javascript object>"
            ],
            "application/javascript": [
              "\n",
              "        // We don't really need these require scripts. But this is to avert\n",
              "        //this code from running before display_input_sequence which DOES require external files\n",
              "        requirejs(['basic', 'ecco'], function(basic, ecco){\n",
              "                console.log('addToken viz_id', 'viz_426763');\n",
              "                window.ecco['viz_426763'].addToken({\"token\": \"doctor\", \"is_partial\": false, \"token_id\": 6253, \"position\": 14, \"type\": \"output\"})\n",
              "                window.ecco['viz_426763'].redraw()\n",
              "        })\n",
              "        "
            ]
          },
          "metadata": {}
        },
        {
          "output_type": "display_data",
          "data": {
            "text/plain": [
              "<IPython.core.display.Javascript object>"
            ],
            "application/javascript": [
              "\n",
              "        // We don't really need these require scripts. But this is to avert\n",
              "        //this code from running before display_input_sequence which DOES require external files\n",
              "        requirejs(['basic', 'ecco'], function(basic, ecco){\n",
              "                console.log('addToken viz_id', 'viz_426763');\n",
              "                window.ecco['viz_426763'].addToken({\"token\": \"'s\", \"is_partial\": true, \"token_id\": 338, \"position\": 15, \"type\": \"output\"})\n",
              "                window.ecco['viz_426763'].redraw()\n",
              "        })\n",
              "        "
            ]
          },
          "metadata": {}
        },
        {
          "output_type": "display_data",
          "data": {
            "text/plain": [
              "<IPython.core.display.Javascript object>"
            ],
            "application/javascript": [
              "\n",
              "        // We don't really need these require scripts. But this is to avert\n",
              "        //this code from running before display_input_sequence which DOES require external files\n",
              "        requirejs(['basic', 'ecco'], function(basic, ecco){\n",
              "                console.log('addToken viz_id', 'viz_426763');\n",
              "                window.ecco['viz_426763'].addToken({\"token\": \"note\", \"is_partial\": false, \"token_id\": 3465, \"position\": 16, \"type\": \"output\"})\n",
              "                window.ecco['viz_426763'].redraw()\n",
              "        })\n",
              "        "
            ]
          },
          "metadata": {}
        },
        {
          "output_type": "display_data",
          "data": {
            "text/plain": [
              "<IPython.core.display.Javascript object>"
            ],
            "application/javascript": [
              "\n",
              "        // We don't really need these require scripts. But this is to avert\n",
              "        //this code from running before display_input_sequence which DOES require external files\n",
              "        requirejs(['basic', 'ecco'], function(basic, ecco){\n",
              "                console.log('addToken viz_id', 'viz_426763');\n",
              "                window.ecco['viz_426763'].addToken({\"token\": \"<|endoftext|>\", \"is_partial\": true, \"token_id\": 50256, \"position\": 17, \"type\": \"output\"})\n",
              "                window.ecco['viz_426763'].redraw()\n",
              "        })\n",
              "        "
            ]
          },
          "metadata": {}
        },
        {
          "output_type": "display_data",
          "data": {
            "text/plain": [
              "<IPython.core.display.HTML object>"
            ],
            "text/html": [
              "<html lang=\"en\">\n",
              "<script src=\"https://requirejs.org/docs/release/2.3.6/minified/require.js\"></script>\n",
              "<script>\n",
              "    var ecco_url = 'https://storage.googleapis.com/ml-intro/ecco/'\n",
              "    //var ecco_url = 'http://localhost:8000/'\n",
              "\n",
              "    if (window.ecco === undefined) window.ecco = {}\n",
              "\n",
              "    // Setup the paths of the script we'll be using\n",
              "    requirejs.config({\n",
              "        urlArgs: \"bust=\" + (new Date()).getTime(),\n",
              "        nodeRequire: require,\n",
              "        paths: {\n",
              "            d3: \"https://d3js.org/d3.v6.min\", // This is only for use in setup.html and basic.html\n",
              "            \"d3-array\": \"https://d3js.org/d3-array.v2.min\",\n",
              "            jquery: \"https://code.jquery.com/jquery-3.5.1.min\",\n",
              "            ecco: ecco_url + 'js/0.0.6/ecco-bundle.min',\n",
              "            xregexp: 'https://cdnjs.cloudflare.com/ajax/libs/xregexp/3.2.0/xregexp-all.min'\n",
              "        }\n",
              "    });\n",
              "\n",
              "    // Add the css file\n",
              "    //requirejs(['d3'],\n",
              "    //    function (d3) {\n",
              "    //        d3.select('#css').attr('href', ecco_url + 'html/styles.css')\n",
              "    //    })\n",
              "\n",
              "    console.log('Ecco initialize!!')\n",
              "\n",
              "    // returns a 'basic' object. basic.init() selects the html div we'll be\n",
              "    // rendering the html into, adds styles.css to the document.\n",
              "    define('basic', ['d3'],\n",
              "        function (d3) {\n",
              "            return {\n",
              "                init: function (viz_id = null) {\n",
              "                    if (viz_id == null) {\n",
              "                        viz_id = \"viz_\" + Math.round(Math.random() * 10000000)\n",
              "                    }\n",
              "                    // Select the div rendered below, change its id\n",
              "                    const div = d3.select('#basic').attr('id', viz_id),\n",
              "                        div_parent = d3.select('#' + viz_id).node().parentNode\n",
              "\n",
              "                    // Link to CSS file\n",
              "                    d3.select(div_parent).insert('link')\n",
              "                        .attr('rel', 'stylesheet')\n",
              "                        .attr('type', 'text/css')\n",
              "                        .attr('href', ecco_url + 'html/0.0.2/styles.css')\n",
              "\n",
              "                    return viz_id\n",
              "                }\n",
              "            }\n",
              "        }, function (err) {\n",
              "            console.log(err);\n",
              "        }\n",
              "    )\n",
              "</script>\n",
              "\n",
              "<head>\n",
              "    <link id='css' rel=\"stylesheet\" type=\"text/css\">\n",
              "</head>\n",
              "<div id=\"basic\"></div>\n"
            ]
          },
          "metadata": {}
        },
        {
          "output_type": "display_data",
          "data": {
            "text/plain": [
              "<IPython.core.display.Javascript object>"
            ],
            "application/javascript": [
              "\n",
              "         requirejs(['basic', 'ecco'], function(basic, ecco){\n",
              "            const viz_id = basic.init()\n",
              "\n",
              "\n",
              "            let pred = new ecco.LayerPredictions({\n",
              "                parentDiv: viz_id,\n",
              "                data:[[{\"token\": \" doctor\", \"prob\": \"0.3453804\", \"ranking\": 1, \"layer\": 23}, {\"token\": \" ticket\", \"prob\": \"0.3183408\", \"ranking\": 2, \"layer\": 23}, {\"token\": \" valid\", \"prob\": \"0.14722927\", \"ranking\": 3, \"layer\": 23}, {\"token\": \" physician\", \"prob\": \"0.04948287\", \"ranking\": 4, \"layer\": 23}, {\"token\": \" medical\", \"prob\": \"0.03759665\", \"ranking\": 5, \"layer\": 23}, {\"token\": \" health\", \"prob\": \"0.03518565\", \"ranking\": 6, \"layer\": 23}, {\"token\": \" prescription\", \"prob\": \"0.031207979\", \"ranking\": 7, \"layer\": 23}, {\"token\": \" doctors\", \"prob\": \"0.014901583\", \"ranking\": 8, \"layer\": 23}, {\"token\": \" license\", \"prob\": \"0.005674838\", \"ranking\": 9, \"layer\": 23}, {\"token\": \" healthcare\", \"prob\": \"0.0035831053\", \"ranking\": 10, \"layer\": 23}]]\n",
              "            })\n",
              "            pred.init()\n",
              "         }, function (err) {\n",
              "            console.log(viz_id, err);\n",
              "        })"
            ]
          },
          "metadata": {}
        }
      ]
    },
    {
      "cell_type": "markdown",
      "source": [
        "What went wrong??  GPT-2 was pre-trained on the pre-COVID internet. Our language has evolved ='(\n",
        "\n",
        "There are some variations of this (\"don't board the train without wearing a\") where 'mask' appears as an option."
      ],
      "metadata": {
        "id": "aaDr9B9P1HRx"
      }
    },
    {
      "cell_type": "markdown",
      "source": [
        "## Other prompts: foods"
      ],
      "metadata": {
        "id": "azHLFNOH1nA1"
      }
    },
    {
      "cell_type": "code",
      "source": [
        "p3 = \"Alvin went to the cafeteria and saw their favorite foods,\"\n",
        "output3 = lm.generate(p3, generate=12, do_sample=False)\n",
        "output3.layer_predictions(position=12, layer=23)"
      ],
      "metadata": {
        "id": "K7dWw4eH1lxY",
        "colab": {
          "base_uri": "https://localhost:8080/",
          "height": 195
        },
        "outputId": "1268ac32-4993-42e9-c314-6a8d5e7ccfa9"
      },
      "execution_count": null,
      "outputs": [
        {
          "output_type": "display_data",
          "data": {
            "text/plain": [
              "<IPython.core.display.HTML object>"
            ],
            "text/html": [
              "<html lang=\"en\">\n",
              "<script src=\"https://requirejs.org/docs/release/2.3.6/minified/require.js\"></script>\n",
              "<script>\n",
              "    var ecco_url = 'https://storage.googleapis.com/ml-intro/ecco/'\n",
              "    //var ecco_url = 'http://localhost:8000/'\n",
              "\n",
              "    if (window.ecco === undefined) window.ecco = {}\n",
              "\n",
              "    // Setup the paths of the script we'll be using\n",
              "    requirejs.config({\n",
              "        urlArgs: \"bust=\" + (new Date()).getTime(),\n",
              "        nodeRequire: require,\n",
              "        paths: {\n",
              "            d3: \"https://d3js.org/d3.v6.min\", // This is only for use in setup.html and basic.html\n",
              "            \"d3-array\": \"https://d3js.org/d3-array.v2.min\",\n",
              "            jquery: \"https://code.jquery.com/jquery-3.5.1.min\",\n",
              "            ecco: ecco_url + 'js/0.0.6/ecco-bundle.min',\n",
              "            xregexp: 'https://cdnjs.cloudflare.com/ajax/libs/xregexp/3.2.0/xregexp-all.min'\n",
              "        }\n",
              "    });\n",
              "\n",
              "    // Add the css file\n",
              "    //requirejs(['d3'],\n",
              "    //    function (d3) {\n",
              "    //        d3.select('#css').attr('href', ecco_url + 'html/styles.css')\n",
              "    //    })\n",
              "\n",
              "    console.log('Ecco initialize!!')\n",
              "\n",
              "    // returns a 'basic' object. basic.init() selects the html div we'll be\n",
              "    // rendering the html into, adds styles.css to the document.\n",
              "    define('basic', ['d3'],\n",
              "        function (d3) {\n",
              "            return {\n",
              "                init: function (viz_id = null) {\n",
              "                    if (viz_id == null) {\n",
              "                        viz_id = \"viz_\" + Math.round(Math.random() * 10000000)\n",
              "                    }\n",
              "                    // Select the div rendered below, change its id\n",
              "                    const div = d3.select('#basic').attr('id', viz_id),\n",
              "                        div_parent = d3.select('#' + viz_id).node().parentNode\n",
              "\n",
              "                    // Link to CSS file\n",
              "                    d3.select(div_parent).insert('link')\n",
              "                        .attr('rel', 'stylesheet')\n",
              "                        .attr('type', 'text/css')\n",
              "                        .attr('href', ecco_url + 'html/0.0.2/styles.css')\n",
              "\n",
              "                    return viz_id\n",
              "                }\n",
              "            }\n",
              "        }, function (err) {\n",
              "            console.log(err);\n",
              "        }\n",
              "    )\n",
              "</script>\n",
              "\n",
              "<head>\n",
              "    <link id='css' rel=\"stylesheet\" type=\"text/css\">\n",
              "</head>\n",
              "<div id=\"basic\"></div>\n"
            ]
          },
          "metadata": {}
        },
        {
          "output_type": "display_data",
          "data": {
            "text/plain": [
              "<IPython.core.display.Javascript object>"
            ],
            "application/javascript": [
              "\n",
              "         requirejs( ['basic', 'ecco'], function(basic, ecco){\n",
              "            basic.init('viz_44358') // Python needs to know the viz id. Used for each output token.\n",
              "            window.ecco['viz_44358'] = new ecco.renderOutputSequence({\n",
              "                    parentDiv: 'viz_44358',\n",
              "                    data: {\"tokens\": [{\"token\": \"Al\", \"is_partial\": true, \"position\": 0, \"token_id\": 2348, \"type\": \"input\"}, {\"token\": \"vin\", \"is_partial\": true, \"position\": 1, \"token_id\": 7114, \"type\": \"input\"}, {\"token\": \"went\", \"is_partial\": false, \"position\": 2, \"token_id\": 1816, \"type\": \"input\"}, {\"token\": \"to\", \"is_partial\": false, \"position\": 3, \"token_id\": 284, \"type\": \"input\"}, {\"token\": \"the\", \"is_partial\": false, \"position\": 4, \"token_id\": 262, \"type\": \"input\"}, {\"token\": \"cafeteria\", \"is_partial\": false, \"position\": 5, \"token_id\": 43075, \"type\": \"input\"}, {\"token\": \"and\", \"is_partial\": false, \"position\": 6, \"token_id\": 290, \"type\": \"input\"}, {\"token\": \"saw\", \"is_partial\": false, \"position\": 7, \"token_id\": 2497, \"type\": \"input\"}, {\"token\": \"their\", \"is_partial\": false, \"position\": 8, \"token_id\": 511, \"type\": \"input\"}, {\"token\": \"favorite\", \"is_partial\": false, \"position\": 9, \"token_id\": 4004, \"type\": \"input\"}, {\"token\": \"foods\", \"is_partial\": false, \"position\": 10, \"token_id\": 9013, \"type\": \"input\"}, {\"token\": \",\", \"is_partial\": true, \"position\": 11, \"token_id\": 11, \"type\": \"input\"}]},\n",
              "                    tokenization_config: {\"token_prefix\": \"\\u0120\", \"partial_token_prefix\": \"\"}\n",
              "            \n",
              "            })\n",
              "         }, function (err) {\n",
              "            console.log(err);\n",
              "        })\n",
              "        "
            ]
          },
          "metadata": {}
        },
        {
          "output_type": "stream",
          "name": "stderr",
          "text": [
            "Setting `pad_token_id` to `eos_token_id`:50256 for open-end generation.\n"
          ]
        },
        {
          "output_type": "display_data",
          "data": {
            "text/plain": [
              "<IPython.core.display.Javascript object>"
            ],
            "application/javascript": [
              "\n",
              "        // We don't really need these require scripts. But this is to avert\n",
              "        //this code from running before display_input_sequence which DOES require external files\n",
              "        requirejs(['basic', 'ecco'], function(basic, ecco){\n",
              "                console.log('addToken viz_id', 'viz_44358');\n",
              "                window.ecco['viz_44358'].addToken({\"token\": \"but\", \"is_partial\": false, \"token_id\": 475, \"position\": 12, \"type\": \"output\"})\n",
              "                window.ecco['viz_44358'].redraw()\n",
              "        })\n",
              "        "
            ]
          },
          "metadata": {}
        },
        {
          "output_type": "display_data",
          "data": {
            "text/plain": [
              "<IPython.core.display.Javascript object>"
            ],
            "application/javascript": [
              "\n",
              "        // We don't really need these require scripts. But this is to avert\n",
              "        //this code from running before display_input_sequence which DOES require external files\n",
              "        requirejs(['basic', 'ecco'], function(basic, ecco){\n",
              "                console.log('addToken viz_id', 'viz_44358');\n",
              "                window.ecco['viz_44358'].addToken({\"token\": \"didn\", \"is_partial\": false, \"token_id\": 1422, \"position\": 13, \"type\": \"output\"})\n",
              "                window.ecco['viz_44358'].redraw()\n",
              "        })\n",
              "        "
            ]
          },
          "metadata": {}
        },
        {
          "output_type": "display_data",
          "data": {
            "text/plain": [
              "<IPython.core.display.Javascript object>"
            ],
            "application/javascript": [
              "\n",
              "        // We don't really need these require scripts. But this is to avert\n",
              "        //this code from running before display_input_sequence which DOES require external files\n",
              "        requirejs(['basic', 'ecco'], function(basic, ecco){\n",
              "                console.log('addToken viz_id', 'viz_44358');\n",
              "                window.ecco['viz_44358'].addToken({\"token\": \"\\ufffd\", \"is_partial\": true, \"token_id\": 447, \"position\": 14, \"type\": \"output\"})\n",
              "                window.ecco['viz_44358'].redraw()\n",
              "        })\n",
              "        "
            ]
          },
          "metadata": {}
        },
        {
          "output_type": "display_data",
          "data": {
            "text/plain": [
              "<IPython.core.display.Javascript object>"
            ],
            "application/javascript": [
              "\n",
              "        // We don't really need these require scripts. But this is to avert\n",
              "        //this code from running before display_input_sequence which DOES require external files\n",
              "        requirejs(['basic', 'ecco'], function(basic, ecco){\n",
              "                console.log('addToken viz_id', 'viz_44358');\n",
              "                window.ecco['viz_44358'].addToken({\"token\": \"\\ufffd\", \"is_partial\": true, \"token_id\": 247, \"position\": 15, \"type\": \"output\"})\n",
              "                window.ecco['viz_44358'].redraw()\n",
              "        })\n",
              "        "
            ]
          },
          "metadata": {}
        },
        {
          "output_type": "display_data",
          "data": {
            "text/plain": [
              "<IPython.core.display.Javascript object>"
            ],
            "application/javascript": [
              "\n",
              "        // We don't really need these require scripts. But this is to avert\n",
              "        //this code from running before display_input_sequence which DOES require external files\n",
              "        requirejs(['basic', 'ecco'], function(basic, ecco){\n",
              "                console.log('addToken viz_id', 'viz_44358');\n",
              "                window.ecco['viz_44358'].addToken({\"token\": \"t\", \"is_partial\": true, \"token_id\": 83, \"position\": 16, \"type\": \"output\"})\n",
              "                window.ecco['viz_44358'].redraw()\n",
              "        })\n",
              "        "
            ]
          },
          "metadata": {}
        },
        {
          "output_type": "display_data",
          "data": {
            "text/plain": [
              "<IPython.core.display.Javascript object>"
            ],
            "application/javascript": [
              "\n",
              "        // We don't really need these require scripts. But this is to avert\n",
              "        //this code from running before display_input_sequence which DOES require external files\n",
              "        requirejs(['basic', 'ecco'], function(basic, ecco){\n",
              "                console.log('addToken viz_id', 'viz_44358');\n",
              "                window.ecco['viz_44358'].addToken({\"token\": \"order\", \"is_partial\": false, \"token_id\": 1502, \"position\": 17, \"type\": \"output\"})\n",
              "                window.ecco['viz_44358'].redraw()\n",
              "        })\n",
              "        "
            ]
          },
          "metadata": {}
        },
        {
          "output_type": "display_data",
          "data": {
            "text/plain": [
              "<IPython.core.display.Javascript object>"
            ],
            "application/javascript": [
              "\n",
              "        // We don't really need these require scripts. But this is to avert\n",
              "        //this code from running before display_input_sequence which DOES require external files\n",
              "        requirejs(['basic', 'ecco'], function(basic, ecco){\n",
              "                console.log('addToken viz_id', 'viz_44358');\n",
              "                window.ecco['viz_44358'].addToken({\"token\": \"anything\", \"is_partial\": false, \"token_id\": 1997, \"position\": 18, \"type\": \"output\"})\n",
              "                window.ecco['viz_44358'].redraw()\n",
              "        })\n",
              "        "
            ]
          },
          "metadata": {}
        },
        {
          "output_type": "display_data",
          "data": {
            "text/plain": [
              "<IPython.core.display.Javascript object>"
            ],
            "application/javascript": [
              "\n",
              "        // We don't really need these require scripts. But this is to avert\n",
              "        //this code from running before display_input_sequence which DOES require external files\n",
              "        requirejs(['basic', 'ecco'], function(basic, ecco){\n",
              "                console.log('addToken viz_id', 'viz_44358');\n",
              "                window.ecco['viz_44358'].addToken({\"token\": \".\", \"is_partial\": true, \"token_id\": 13, \"position\": 19, \"type\": \"output\"})\n",
              "                window.ecco['viz_44358'].redraw()\n",
              "        })\n",
              "        "
            ]
          },
          "metadata": {}
        },
        {
          "output_type": "display_data",
          "data": {
            "text/plain": [
              "<IPython.core.display.Javascript object>"
            ],
            "application/javascript": [
              "\n",
              "        // We don't really need these require scripts. But this is to avert\n",
              "        //this code from running before display_input_sequence which DOES require external files\n",
              "        requirejs(['basic', 'ecco'], function(basic, ecco){\n",
              "                console.log('addToken viz_id', 'viz_44358');\n",
              "                window.ecco['viz_44358'].addToken({\"token\": \"What\", \"is_partial\": false, \"token_id\": 1867, \"position\": 20, \"type\": \"output\"})\n",
              "                window.ecco['viz_44358'].redraw()\n",
              "        })\n",
              "        "
            ]
          },
          "metadata": {}
        },
        {
          "output_type": "display_data",
          "data": {
            "text/plain": [
              "<IPython.core.display.Javascript object>"
            ],
            "application/javascript": [
              "\n",
              "        // We don't really need these require scripts. But this is to avert\n",
              "        //this code from running before display_input_sequence which DOES require external files\n",
              "        requirejs(['basic', 'ecco'], function(basic, ecco){\n",
              "                console.log('addToken viz_id', 'viz_44358');\n",
              "                window.ecco['viz_44358'].addToken({\"token\": \"are\", \"is_partial\": false, \"token_id\": 389, \"position\": 21, \"type\": \"output\"})\n",
              "                window.ecco['viz_44358'].redraw()\n",
              "        })\n",
              "        "
            ]
          },
          "metadata": {}
        },
        {
          "output_type": "display_data",
          "data": {
            "text/plain": [
              "<IPython.core.display.Javascript object>"
            ],
            "application/javascript": [
              "\n",
              "        // We don't really need these require scripts. But this is to avert\n",
              "        //this code from running before display_input_sequence which DOES require external files\n",
              "        requirejs(['basic', 'ecco'], function(basic, ecco){\n",
              "                console.log('addToken viz_id', 'viz_44358');\n",
              "                window.ecco['viz_44358'].addToken({\"token\": \"the\", \"is_partial\": false, \"token_id\": 262, \"position\": 22, \"type\": \"output\"})\n",
              "                window.ecco['viz_44358'].redraw()\n",
              "        })\n",
              "        "
            ]
          },
          "metadata": {}
        },
        {
          "output_type": "display_data",
          "data": {
            "text/plain": [
              "<IPython.core.display.Javascript object>"
            ],
            "application/javascript": [
              "\n",
              "        // We don't really need these require scripts. But this is to avert\n",
              "        //this code from running before display_input_sequence which DOES require external files\n",
              "        requirejs(['basic', 'ecco'], function(basic, ecco){\n",
              "                console.log('addToken viz_id', 'viz_44358');\n",
              "                window.ecco['viz_44358'].addToken({\"token\": \"best\", \"is_partial\": false, \"token_id\": 1266, \"position\": 23, \"type\": \"output\"})\n",
              "                window.ecco['viz_44358'].redraw()\n",
              "        })\n",
              "        "
            ]
          },
          "metadata": {}
        },
        {
          "output_type": "display_data",
          "data": {
            "text/plain": [
              "<IPython.core.display.HTML object>"
            ],
            "text/html": [
              "<html lang=\"en\">\n",
              "<script src=\"https://requirejs.org/docs/release/2.3.6/minified/require.js\"></script>\n",
              "<script>\n",
              "    var ecco_url = 'https://storage.googleapis.com/ml-intro/ecco/'\n",
              "    //var ecco_url = 'http://localhost:8000/'\n",
              "\n",
              "    if (window.ecco === undefined) window.ecco = {}\n",
              "\n",
              "    // Setup the paths of the script we'll be using\n",
              "    requirejs.config({\n",
              "        urlArgs: \"bust=\" + (new Date()).getTime(),\n",
              "        nodeRequire: require,\n",
              "        paths: {\n",
              "            d3: \"https://d3js.org/d3.v6.min\", // This is only for use in setup.html and basic.html\n",
              "            \"d3-array\": \"https://d3js.org/d3-array.v2.min\",\n",
              "            jquery: \"https://code.jquery.com/jquery-3.5.1.min\",\n",
              "            ecco: ecco_url + 'js/0.0.6/ecco-bundle.min',\n",
              "            xregexp: 'https://cdnjs.cloudflare.com/ajax/libs/xregexp/3.2.0/xregexp-all.min'\n",
              "        }\n",
              "    });\n",
              "\n",
              "    // Add the css file\n",
              "    //requirejs(['d3'],\n",
              "    //    function (d3) {\n",
              "    //        d3.select('#css').attr('href', ecco_url + 'html/styles.css')\n",
              "    //    })\n",
              "\n",
              "    console.log('Ecco initialize!!')\n",
              "\n",
              "    // returns a 'basic' object. basic.init() selects the html div we'll be\n",
              "    // rendering the html into, adds styles.css to the document.\n",
              "    define('basic', ['d3'],\n",
              "        function (d3) {\n",
              "            return {\n",
              "                init: function (viz_id = null) {\n",
              "                    if (viz_id == null) {\n",
              "                        viz_id = \"viz_\" + Math.round(Math.random() * 10000000)\n",
              "                    }\n",
              "                    // Select the div rendered below, change its id\n",
              "                    const div = d3.select('#basic').attr('id', viz_id),\n",
              "                        div_parent = d3.select('#' + viz_id).node().parentNode\n",
              "\n",
              "                    // Link to CSS file\n",
              "                    d3.select(div_parent).insert('link')\n",
              "                        .attr('rel', 'stylesheet')\n",
              "                        .attr('type', 'text/css')\n",
              "                        .attr('href', ecco_url + 'html/0.0.2/styles.css')\n",
              "\n",
              "                    return viz_id\n",
              "                }\n",
              "            }\n",
              "        }, function (err) {\n",
              "            console.log(err);\n",
              "        }\n",
              "    )\n",
              "</script>\n",
              "\n",
              "<head>\n",
              "    <link id='css' rel=\"stylesheet\" type=\"text/css\">\n",
              "</head>\n",
              "<div id=\"basic\"></div>\n"
            ]
          },
          "metadata": {}
        },
        {
          "output_type": "display_data",
          "data": {
            "text/plain": [
              "<IPython.core.display.Javascript object>"
            ],
            "application/javascript": [
              "\n",
              "         requirejs(['basic', 'ecco'], function(basic, ecco){\n",
              "            const viz_id = basic.init()\n",
              "\n",
              "\n",
              "            let pred = new ecco.LayerPredictions({\n",
              "                parentDiv: viz_id,\n",
              "                data:[[{\"token\": \" but\", \"prob\": \"0.41614282\", \"ranking\": 1, \"layer\": 23}, {\"token\": \" \\\"\", \"prob\": \"0.053465325\", \"ranking\": 2, \"layer\": 23}, {\"token\": \" the\", \"prob\": \"0.04754479\", \"ranking\": 3, \"layer\": 23}, {\"token\": \" which\", \"prob\": \"0.02806898\", \"ranking\": 4, \"layer\": 23}, {\"token\": \" and\", \"prob\": \"0.027655456\", \"ranking\": 5, \"layer\": 23}, {\"token\": \" like\", \"prob\": \"0.026099268\", \"ranking\": 6, \"layer\": 23}, {\"token\": \" then\", \"prob\": \"0.025347766\", \"ranking\": 7, \"layer\": 23}, {\"token\": \" aged\", \"prob\": \"0.020621348\", \"ranking\": 8, \"layer\": 23}, {\"token\": \" he\", \"prob\": \"0.011191912\", \"ranking\": 9, \"layer\": 23}, {\"token\": \" BUT\", \"prob\": \"0.008709789\", \"ranking\": 10, \"layer\": 23}]]\n",
              "            })\n",
              "            pred.init()\n",
              "         }, function (err) {\n",
              "            console.log(viz_id, err);\n",
              "        })"
            ]
          },
          "metadata": {}
        }
      ]
    },
    {
      "cell_type": "code",
      "source": [
        "p3 = \"Alvin went to the cafeteria and saw their favorite foods, including\"\n",
        "output3 = lm.generate(p3, generate=12, do_sample=False)\n",
        "output3.layer_predictions(position=13, layer=23)"
      ],
      "metadata": {
        "id": "MC2ZTsVy146k",
        "colab": {
          "base_uri": "https://localhost:8080/",
          "height": 228
        },
        "outputId": "683ed7de-c886-4917-fbb4-1664b1bdb5e3"
      },
      "execution_count": null,
      "outputs": [
        {
          "output_type": "display_data",
          "data": {
            "text/plain": [
              "<IPython.core.display.HTML object>"
            ],
            "text/html": [
              "<html lang=\"en\">\n",
              "<script src=\"https://requirejs.org/docs/release/2.3.6/minified/require.js\"></script>\n",
              "<script>\n",
              "    var ecco_url = 'https://storage.googleapis.com/ml-intro/ecco/'\n",
              "    //var ecco_url = 'http://localhost:8000/'\n",
              "\n",
              "    if (window.ecco === undefined) window.ecco = {}\n",
              "\n",
              "    // Setup the paths of the script we'll be using\n",
              "    requirejs.config({\n",
              "        urlArgs: \"bust=\" + (new Date()).getTime(),\n",
              "        nodeRequire: require,\n",
              "        paths: {\n",
              "            d3: \"https://d3js.org/d3.v6.min\", // This is only for use in setup.html and basic.html\n",
              "            \"d3-array\": \"https://d3js.org/d3-array.v2.min\",\n",
              "            jquery: \"https://code.jquery.com/jquery-3.5.1.min\",\n",
              "            ecco: ecco_url + 'js/0.0.6/ecco-bundle.min',\n",
              "            xregexp: 'https://cdnjs.cloudflare.com/ajax/libs/xregexp/3.2.0/xregexp-all.min'\n",
              "        }\n",
              "    });\n",
              "\n",
              "    // Add the css file\n",
              "    //requirejs(['d3'],\n",
              "    //    function (d3) {\n",
              "    //        d3.select('#css').attr('href', ecco_url + 'html/styles.css')\n",
              "    //    })\n",
              "\n",
              "    console.log('Ecco initialize!!')\n",
              "\n",
              "    // returns a 'basic' object. basic.init() selects the html div we'll be\n",
              "    // rendering the html into, adds styles.css to the document.\n",
              "    define('basic', ['d3'],\n",
              "        function (d3) {\n",
              "            return {\n",
              "                init: function (viz_id = null) {\n",
              "                    if (viz_id == null) {\n",
              "                        viz_id = \"viz_\" + Math.round(Math.random() * 10000000)\n",
              "                    }\n",
              "                    // Select the div rendered below, change its id\n",
              "                    const div = d3.select('#basic').attr('id', viz_id),\n",
              "                        div_parent = d3.select('#' + viz_id).node().parentNode\n",
              "\n",
              "                    // Link to CSS file\n",
              "                    d3.select(div_parent).insert('link')\n",
              "                        .attr('rel', 'stylesheet')\n",
              "                        .attr('type', 'text/css')\n",
              "                        .attr('href', ecco_url + 'html/0.0.2/styles.css')\n",
              "\n",
              "                    return viz_id\n",
              "                }\n",
              "            }\n",
              "        }, function (err) {\n",
              "            console.log(err);\n",
              "        }\n",
              "    )\n",
              "</script>\n",
              "\n",
              "<head>\n",
              "    <link id='css' rel=\"stylesheet\" type=\"text/css\">\n",
              "</head>\n",
              "<div id=\"basic\"></div>\n"
            ]
          },
          "metadata": {}
        },
        {
          "output_type": "display_data",
          "data": {
            "text/plain": [
              "<IPython.core.display.Javascript object>"
            ],
            "application/javascript": [
              "\n",
              "         requirejs( ['basic', 'ecco'], function(basic, ecco){\n",
              "            basic.init('viz_482197') // Python needs to know the viz id. Used for each output token.\n",
              "            window.ecco['viz_482197'] = new ecco.renderOutputSequence({\n",
              "                    parentDiv: 'viz_482197',\n",
              "                    data: {\"tokens\": [{\"token\": \"Al\", \"is_partial\": true, \"position\": 0, \"token_id\": 2348, \"type\": \"input\"}, {\"token\": \"vin\", \"is_partial\": true, \"position\": 1, \"token_id\": 7114, \"type\": \"input\"}, {\"token\": \"went\", \"is_partial\": false, \"position\": 2, \"token_id\": 1816, \"type\": \"input\"}, {\"token\": \"to\", \"is_partial\": false, \"position\": 3, \"token_id\": 284, \"type\": \"input\"}, {\"token\": \"the\", \"is_partial\": false, \"position\": 4, \"token_id\": 262, \"type\": \"input\"}, {\"token\": \"cafeteria\", \"is_partial\": false, \"position\": 5, \"token_id\": 43075, \"type\": \"input\"}, {\"token\": \"and\", \"is_partial\": false, \"position\": 6, \"token_id\": 290, \"type\": \"input\"}, {\"token\": \"saw\", \"is_partial\": false, \"position\": 7, \"token_id\": 2497, \"type\": \"input\"}, {\"token\": \"their\", \"is_partial\": false, \"position\": 8, \"token_id\": 511, \"type\": \"input\"}, {\"token\": \"favorite\", \"is_partial\": false, \"position\": 9, \"token_id\": 4004, \"type\": \"input\"}, {\"token\": \"foods\", \"is_partial\": false, \"position\": 10, \"token_id\": 9013, \"type\": \"input\"}, {\"token\": \",\", \"is_partial\": true, \"position\": 11, \"token_id\": 11, \"type\": \"input\"}, {\"token\": \"including\", \"is_partial\": false, \"position\": 12, \"token_id\": 1390, \"type\": \"input\"}]},\n",
              "                    tokenization_config: {\"token_prefix\": \"\\u0120\", \"partial_token_prefix\": \"\"}\n",
              "            \n",
              "            })\n",
              "         }, function (err) {\n",
              "            console.log(err);\n",
              "        })\n",
              "        "
            ]
          },
          "metadata": {}
        },
        {
          "output_type": "stream",
          "name": "stderr",
          "text": [
            "Setting `pad_token_id` to `eos_token_id`:50256 for open-end generation.\n"
          ]
        },
        {
          "output_type": "display_data",
          "data": {
            "text/plain": [
              "<IPython.core.display.Javascript object>"
            ],
            "application/javascript": [
              "\n",
              "        // We don't really need these require scripts. But this is to avert\n",
              "        //this code from running before display_input_sequence which DOES require external files\n",
              "        requirejs(['basic', 'ecco'], function(basic, ecco){\n",
              "                console.log('addToken viz_id', 'viz_482197');\n",
              "                window.ecco['viz_482197'].addToken({\"token\": \"a\", \"is_partial\": false, \"token_id\": 257, \"position\": 13, \"type\": \"output\"})\n",
              "                window.ecco['viz_482197'].redraw()\n",
              "        })\n",
              "        "
            ]
          },
          "metadata": {}
        },
        {
          "output_type": "display_data",
          "data": {
            "text/plain": [
              "<IPython.core.display.Javascript object>"
            ],
            "application/javascript": [
              "\n",
              "        // We don't really need these require scripts. But this is to avert\n",
              "        //this code from running before display_input_sequence which DOES require external files\n",
              "        requirejs(['basic', 'ecco'], function(basic, ecco){\n",
              "                console.log('addToken viz_id', 'viz_482197');\n",
              "                window.ecco['viz_482197'].addToken({\"token\": \"bowl\", \"is_partial\": false, \"token_id\": 9396, \"position\": 14, \"type\": \"output\"})\n",
              "                window.ecco['viz_482197'].redraw()\n",
              "        })\n",
              "        "
            ]
          },
          "metadata": {}
        },
        {
          "output_type": "display_data",
          "data": {
            "text/plain": [
              "<IPython.core.display.Javascript object>"
            ],
            "application/javascript": [
              "\n",
              "        // We don't really need these require scripts. But this is to avert\n",
              "        //this code from running before display_input_sequence which DOES require external files\n",
              "        requirejs(['basic', 'ecco'], function(basic, ecco){\n",
              "                console.log('addToken viz_id', 'viz_482197');\n",
              "                window.ecco['viz_482197'].addToken({\"token\": \"of\", \"is_partial\": false, \"token_id\": 286, \"position\": 15, \"type\": \"output\"})\n",
              "                window.ecco['viz_482197'].redraw()\n",
              "        })\n",
              "        "
            ]
          },
          "metadata": {}
        },
        {
          "output_type": "display_data",
          "data": {
            "text/plain": [
              "<IPython.core.display.Javascript object>"
            ],
            "application/javascript": [
              "\n",
              "        // We don't really need these require scripts. But this is to avert\n",
              "        //this code from running before display_input_sequence which DOES require external files\n",
              "        requirejs(['basic', 'ecco'], function(basic, ecco){\n",
              "                console.log('addToken viz_id', 'viz_482197');\n",
              "                window.ecco['viz_482197'].addToken({\"token\": \"o\", \"is_partial\": false, \"token_id\": 267, \"position\": 16, \"type\": \"output\"})\n",
              "                window.ecco['viz_482197'].redraw()\n",
              "        })\n",
              "        "
            ]
          },
          "metadata": {}
        },
        {
          "output_type": "display_data",
          "data": {
            "text/plain": [
              "<IPython.core.display.Javascript object>"
            ],
            "application/javascript": [
              "\n",
              "        // We don't really need these require scripts. But this is to avert\n",
              "        //this code from running before display_input_sequence which DOES require external files\n",
              "        requirejs(['basic', 'ecco'], function(basic, ecco){\n",
              "                console.log('addToken viz_id', 'viz_482197');\n",
              "                window.ecco['viz_482197'].addToken({\"token\": \"atmeal\", \"is_partial\": true, \"token_id\": 45280, \"position\": 17, \"type\": \"output\"})\n",
              "                window.ecco['viz_482197'].redraw()\n",
              "        })\n",
              "        "
            ]
          },
          "metadata": {}
        },
        {
          "output_type": "display_data",
          "data": {
            "text/plain": [
              "<IPython.core.display.Javascript object>"
            ],
            "application/javascript": [
              "\n",
              "        // We don't really need these require scripts. But this is to avert\n",
              "        //this code from running before display_input_sequence which DOES require external files\n",
              "        requirejs(['basic', 'ecco'], function(basic, ecco){\n",
              "                console.log('addToken viz_id', 'viz_482197');\n",
              "                window.ecco['viz_482197'].addToken({\"token\": \"with\", \"is_partial\": false, \"token_id\": 351, \"position\": 18, \"type\": \"output\"})\n",
              "                window.ecco['viz_482197'].redraw()\n",
              "        })\n",
              "        "
            ]
          },
          "metadata": {}
        },
        {
          "output_type": "display_data",
          "data": {
            "text/plain": [
              "<IPython.core.display.Javascript object>"
            ],
            "application/javascript": [
              "\n",
              "        // We don't really need these require scripts. But this is to avert\n",
              "        //this code from running before display_input_sequence which DOES require external files\n",
              "        requirejs(['basic', 'ecco'], function(basic, ecco){\n",
              "                console.log('addToken viz_id', 'viz_482197');\n",
              "                window.ecco['viz_482197'].addToken({\"token\": \"ra\", \"is_partial\": false, \"token_id\": 2179, \"position\": 19, \"type\": \"output\"})\n",
              "                window.ecco['viz_482197'].redraw()\n",
              "        })\n",
              "        "
            ]
          },
          "metadata": {}
        },
        {
          "output_type": "display_data",
          "data": {
            "text/plain": [
              "<IPython.core.display.Javascript object>"
            ],
            "application/javascript": [
              "\n",
              "        // We don't really need these require scripts. But this is to avert\n",
              "        //this code from running before display_input_sequence which DOES require external files\n",
              "        requirejs(['basic', 'ecco'], function(basic, ecco){\n",
              "                console.log('addToken viz_id', 'viz_482197');\n",
              "                window.ecco['viz_482197'].addToken({\"token\": \"is\", \"is_partial\": true, \"token_id\": 271, \"position\": 20, \"type\": \"output\"})\n",
              "                window.ecco['viz_482197'].redraw()\n",
              "        })\n",
              "        "
            ]
          },
          "metadata": {}
        },
        {
          "output_type": "display_data",
          "data": {
            "text/plain": [
              "<IPython.core.display.Javascript object>"
            ],
            "application/javascript": [
              "\n",
              "        // We don't really need these require scripts. But this is to avert\n",
              "        //this code from running before display_input_sequence which DOES require external files\n",
              "        requirejs(['basic', 'ecco'], function(basic, ecco){\n",
              "                console.log('addToken viz_id', 'viz_482197');\n",
              "                window.ecco['viz_482197'].addToken({\"token\": \"ins\", \"is_partial\": true, \"token_id\": 1040, \"position\": 21, \"type\": \"output\"})\n",
              "                window.ecco['viz_482197'].redraw()\n",
              "        })\n",
              "        "
            ]
          },
          "metadata": {}
        },
        {
          "output_type": "display_data",
          "data": {
            "text/plain": [
              "<IPython.core.display.Javascript object>"
            ],
            "application/javascript": [
              "\n",
              "        // We don't really need these require scripts. But this is to avert\n",
              "        //this code from running before display_input_sequence which DOES require external files\n",
              "        requirejs(['basic', 'ecco'], function(basic, ecco){\n",
              "                console.log('addToken viz_id', 'viz_482197');\n",
              "                window.ecco['viz_482197'].addToken({\"token\": \",\", \"is_partial\": true, \"token_id\": 11, \"position\": 22, \"type\": \"output\"})\n",
              "                window.ecco['viz_482197'].redraw()\n",
              "        })\n",
              "        "
            ]
          },
          "metadata": {}
        },
        {
          "output_type": "display_data",
          "data": {
            "text/plain": [
              "<IPython.core.display.Javascript object>"
            ],
            "application/javascript": [
              "\n",
              "        // We don't really need these require scripts. But this is to avert\n",
              "        //this code from running before display_input_sequence which DOES require external files\n",
              "        requirejs(['basic', 'ecco'], function(basic, ecco){\n",
              "                console.log('addToken viz_id', 'viz_482197');\n",
              "                window.ecco['viz_482197'].addToken({\"token\": \"a\", \"is_partial\": false, \"token_id\": 257, \"position\": 23, \"type\": \"output\"})\n",
              "                window.ecco['viz_482197'].redraw()\n",
              "        })\n",
              "        "
            ]
          },
          "metadata": {}
        },
        {
          "output_type": "display_data",
          "data": {
            "text/plain": [
              "<IPython.core.display.Javascript object>"
            ],
            "application/javascript": [
              "\n",
              "        // We don't really need these require scripts. But this is to avert\n",
              "        //this code from running before display_input_sequence which DOES require external files\n",
              "        requirejs(['basic', 'ecco'], function(basic, ecco){\n",
              "                console.log('addToken viz_id', 'viz_482197');\n",
              "                window.ecco['viz_482197'].addToken({\"token\": \"container\", \"is_partial\": false, \"token_id\": 9290, \"position\": 24, \"type\": \"output\"})\n",
              "                window.ecco['viz_482197'].redraw()\n",
              "        })\n",
              "        "
            ]
          },
          "metadata": {}
        },
        {
          "output_type": "display_data",
          "data": {
            "text/plain": [
              "<IPython.core.display.HTML object>"
            ],
            "text/html": [
              "<html lang=\"en\">\n",
              "<script src=\"https://requirejs.org/docs/release/2.3.6/minified/require.js\"></script>\n",
              "<script>\n",
              "    var ecco_url = 'https://storage.googleapis.com/ml-intro/ecco/'\n",
              "    //var ecco_url = 'http://localhost:8000/'\n",
              "\n",
              "    if (window.ecco === undefined) window.ecco = {}\n",
              "\n",
              "    // Setup the paths of the script we'll be using\n",
              "    requirejs.config({\n",
              "        urlArgs: \"bust=\" + (new Date()).getTime(),\n",
              "        nodeRequire: require,\n",
              "        paths: {\n",
              "            d3: \"https://d3js.org/d3.v6.min\", // This is only for use in setup.html and basic.html\n",
              "            \"d3-array\": \"https://d3js.org/d3-array.v2.min\",\n",
              "            jquery: \"https://code.jquery.com/jquery-3.5.1.min\",\n",
              "            ecco: ecco_url + 'js/0.0.6/ecco-bundle.min',\n",
              "            xregexp: 'https://cdnjs.cloudflare.com/ajax/libs/xregexp/3.2.0/xregexp-all.min'\n",
              "        }\n",
              "    });\n",
              "\n",
              "    // Add the css file\n",
              "    //requirejs(['d3'],\n",
              "    //    function (d3) {\n",
              "    //        d3.select('#css').attr('href', ecco_url + 'html/styles.css')\n",
              "    //    })\n",
              "\n",
              "    console.log('Ecco initialize!!')\n",
              "\n",
              "    // returns a 'basic' object. basic.init() selects the html div we'll be\n",
              "    // rendering the html into, adds styles.css to the document.\n",
              "    define('basic', ['d3'],\n",
              "        function (d3) {\n",
              "            return {\n",
              "                init: function (viz_id = null) {\n",
              "                    if (viz_id == null) {\n",
              "                        viz_id = \"viz_\" + Math.round(Math.random() * 10000000)\n",
              "                    }\n",
              "                    // Select the div rendered below, change its id\n",
              "                    const div = d3.select('#basic').attr('id', viz_id),\n",
              "                        div_parent = d3.select('#' + viz_id).node().parentNode\n",
              "\n",
              "                    // Link to CSS file\n",
              "                    d3.select(div_parent).insert('link')\n",
              "                        .attr('rel', 'stylesheet')\n",
              "                        .attr('type', 'text/css')\n",
              "                        .attr('href', ecco_url + 'html/0.0.2/styles.css')\n",
              "\n",
              "                    return viz_id\n",
              "                }\n",
              "            }\n",
              "        }, function (err) {\n",
              "            console.log(err);\n",
              "        }\n",
              "    )\n",
              "</script>\n",
              "\n",
              "<head>\n",
              "    <link id='css' rel=\"stylesheet\" type=\"text/css\">\n",
              "</head>\n",
              "<div id=\"basic\"></div>\n"
            ]
          },
          "metadata": {}
        },
        {
          "output_type": "display_data",
          "data": {
            "text/plain": [
              "<IPython.core.display.Javascript object>"
            ],
            "application/javascript": [
              "\n",
              "         requirejs(['basic', 'ecco'], function(basic, ecco){\n",
              "            const viz_id = basic.init()\n",
              "\n",
              "\n",
              "            let pred = new ecco.LayerPredictions({\n",
              "                parentDiv: viz_id,\n",
              "                data:[[{\"token\": \" a\", \"prob\": \"0.3165632\", \"ranking\": 1, \"layer\": 23}, {\"token\": \" pizza\", \"prob\": \"0.20090419\", \"ranking\": 2, \"layer\": 23}, {\"token\": \" o\", \"prob\": \"0.105566815\", \"ranking\": 3, \"layer\": 23}, {\"token\": \" the\", \"prob\": \"0.040916476\", \"ranking\": 4, \"layer\": 23}, {\"token\": \" some\", \"prob\": \"0.035515577\", \"ranking\": 5, \"layer\": 23}, {\"token\": \" pest\", \"prob\": \"0.024218317\", \"ranking\": 6, \"layer\": 23}, {\"token\": \" french\", \"prob\": \"0.019639693\", \"ranking\": 7, \"layer\": 23}, {\"token\": \" '\", \"prob\": \"0.017173719\", \"ranking\": 8, \"layer\": 23}, {\"token\": \" \\\"\", \"prob\": \"0.016147623\", \"ranking\": 9, \"layer\": 23}, {\"token\": \" an\", \"prob\": \"0.012750988\", \"ranking\": 10, \"layer\": 23}]]\n",
              "            })\n",
              "            pred.init()\n",
              "         }, function (err) {\n",
              "            console.log(viz_id, err);\n",
              "        })"
            ]
          },
          "metadata": {}
        }
      ]
    },
    {
      "cell_type": "code",
      "source": [
        "p3 = \"Takashi went to the cafeteria and saw his favorite foods, including\"\n",
        "output3 = lm.generate(p3, generate=12, do_sample=False)\n",
        "output3.layer_predictions(position=14, layer=23)"
      ],
      "metadata": {
        "id": "pldr3aIr18ZY",
        "colab": {
          "base_uri": "https://localhost:8080/",
          "height": 228
        },
        "outputId": "a0e62978-e33e-4064-c8af-a8b4a890d25a"
      },
      "execution_count": null,
      "outputs": [
        {
          "output_type": "display_data",
          "data": {
            "text/plain": [
              "<IPython.core.display.HTML object>"
            ],
            "text/html": [
              "<html lang=\"en\">\n",
              "<script src=\"https://requirejs.org/docs/release/2.3.6/minified/require.js\"></script>\n",
              "<script>\n",
              "    var ecco_url = 'https://storage.googleapis.com/ml-intro/ecco/'\n",
              "    //var ecco_url = 'http://localhost:8000/'\n",
              "\n",
              "    if (window.ecco === undefined) window.ecco = {}\n",
              "\n",
              "    // Setup the paths of the script we'll be using\n",
              "    requirejs.config({\n",
              "        urlArgs: \"bust=\" + (new Date()).getTime(),\n",
              "        nodeRequire: require,\n",
              "        paths: {\n",
              "            d3: \"https://d3js.org/d3.v6.min\", // This is only for use in setup.html and basic.html\n",
              "            \"d3-array\": \"https://d3js.org/d3-array.v2.min\",\n",
              "            jquery: \"https://code.jquery.com/jquery-3.5.1.min\",\n",
              "            ecco: ecco_url + 'js/0.0.6/ecco-bundle.min',\n",
              "            xregexp: 'https://cdnjs.cloudflare.com/ajax/libs/xregexp/3.2.0/xregexp-all.min'\n",
              "        }\n",
              "    });\n",
              "\n",
              "    // Add the css file\n",
              "    //requirejs(['d3'],\n",
              "    //    function (d3) {\n",
              "    //        d3.select('#css').attr('href', ecco_url + 'html/styles.css')\n",
              "    //    })\n",
              "\n",
              "    console.log('Ecco initialize!!')\n",
              "\n",
              "    // returns a 'basic' object. basic.init() selects the html div we'll be\n",
              "    // rendering the html into, adds styles.css to the document.\n",
              "    define('basic', ['d3'],\n",
              "        function (d3) {\n",
              "            return {\n",
              "                init: function (viz_id = null) {\n",
              "                    if (viz_id == null) {\n",
              "                        viz_id = \"viz_\" + Math.round(Math.random() * 10000000)\n",
              "                    }\n",
              "                    // Select the div rendered below, change its id\n",
              "                    const div = d3.select('#basic').attr('id', viz_id),\n",
              "                        div_parent = d3.select('#' + viz_id).node().parentNode\n",
              "\n",
              "                    // Link to CSS file\n",
              "                    d3.select(div_parent).insert('link')\n",
              "                        .attr('rel', 'stylesheet')\n",
              "                        .attr('type', 'text/css')\n",
              "                        .attr('href', ecco_url + 'html/0.0.2/styles.css')\n",
              "\n",
              "                    return viz_id\n",
              "                }\n",
              "            }\n",
              "        }, function (err) {\n",
              "            console.log(err);\n",
              "        }\n",
              "    )\n",
              "</script>\n",
              "\n",
              "<head>\n",
              "    <link id='css' rel=\"stylesheet\" type=\"text/css\">\n",
              "</head>\n",
              "<div id=\"basic\"></div>\n"
            ]
          },
          "metadata": {}
        },
        {
          "output_type": "display_data",
          "data": {
            "text/plain": [
              "<IPython.core.display.Javascript object>"
            ],
            "application/javascript": [
              "\n",
              "         requirejs( ['basic', 'ecco'], function(basic, ecco){\n",
              "            basic.init('viz_426285') // Python needs to know the viz id. Used for each output token.\n",
              "            window.ecco['viz_426285'] = new ecco.renderOutputSequence({\n",
              "                    parentDiv: 'viz_426285',\n",
              "                    data: {\"tokens\": [{\"token\": \"T\", \"is_partial\": true, \"position\": 0, \"token_id\": 51, \"type\": \"input\"}, {\"token\": \"ak\", \"is_partial\": true, \"position\": 1, \"token_id\": 461, \"type\": \"input\"}, {\"token\": \"ashi\", \"is_partial\": true, \"position\": 2, \"token_id\": 12144, \"type\": \"input\"}, {\"token\": \"went\", \"is_partial\": false, \"position\": 3, \"token_id\": 1816, \"type\": \"input\"}, {\"token\": \"to\", \"is_partial\": false, \"position\": 4, \"token_id\": 284, \"type\": \"input\"}, {\"token\": \"the\", \"is_partial\": false, \"position\": 5, \"token_id\": 262, \"type\": \"input\"}, {\"token\": \"cafeteria\", \"is_partial\": false, \"position\": 6, \"token_id\": 43075, \"type\": \"input\"}, {\"token\": \"and\", \"is_partial\": false, \"position\": 7, \"token_id\": 290, \"type\": \"input\"}, {\"token\": \"saw\", \"is_partial\": false, \"position\": 8, \"token_id\": 2497, \"type\": \"input\"}, {\"token\": \"his\", \"is_partial\": false, \"position\": 9, \"token_id\": 465, \"type\": \"input\"}, {\"token\": \"favorite\", \"is_partial\": false, \"position\": 10, \"token_id\": 4004, \"type\": \"input\"}, {\"token\": \"foods\", \"is_partial\": false, \"position\": 11, \"token_id\": 9013, \"type\": \"input\"}, {\"token\": \",\", \"is_partial\": true, \"position\": 12, \"token_id\": 11, \"type\": \"input\"}, {\"token\": \"including\", \"is_partial\": false, \"position\": 13, \"token_id\": 1390, \"type\": \"input\"}]},\n",
              "                    tokenization_config: {\"token_prefix\": \"\\u0120\", \"partial_token_prefix\": \"\"}\n",
              "            \n",
              "            })\n",
              "         }, function (err) {\n",
              "            console.log(err);\n",
              "        })\n",
              "        "
            ]
          },
          "metadata": {}
        },
        {
          "output_type": "stream",
          "name": "stderr",
          "text": [
            "Setting `pad_token_id` to `eos_token_id`:50256 for open-end generation.\n"
          ]
        },
        {
          "output_type": "display_data",
          "data": {
            "text/plain": [
              "<IPython.core.display.Javascript object>"
            ],
            "application/javascript": [
              "\n",
              "        // We don't really need these require scripts. But this is to avert\n",
              "        //this code from running before display_input_sequence which DOES require external files\n",
              "        requirejs(['basic', 'ecco'], function(basic, ecco){\n",
              "                console.log('addToken viz_id', 'viz_426285');\n",
              "                window.ecco['viz_426285'].addToken({\"token\": \"a\", \"is_partial\": false, \"token_id\": 257, \"position\": 14, \"type\": \"output\"})\n",
              "                window.ecco['viz_426285'].redraw()\n",
              "        })\n",
              "        "
            ]
          },
          "metadata": {}
        },
        {
          "output_type": "display_data",
          "data": {
            "text/plain": [
              "<IPython.core.display.Javascript object>"
            ],
            "application/javascript": [
              "\n",
              "        // We don't really need these require scripts. But this is to avert\n",
              "        //this code from running before display_input_sequence which DOES require external files\n",
              "        requirejs(['basic', 'ecco'], function(basic, ecco){\n",
              "                console.log('addToken viz_id', 'viz_426285');\n",
              "                window.ecco['viz_426285'].addToken({\"token\": \"bowl\", \"is_partial\": false, \"token_id\": 9396, \"position\": 15, \"type\": \"output\"})\n",
              "                window.ecco['viz_426285'].redraw()\n",
              "        })\n",
              "        "
            ]
          },
          "metadata": {}
        },
        {
          "output_type": "display_data",
          "data": {
            "text/plain": [
              "<IPython.core.display.Javascript object>"
            ],
            "application/javascript": [
              "\n",
              "        // We don't really need these require scripts. But this is to avert\n",
              "        //this code from running before display_input_sequence which DOES require external files\n",
              "        requirejs(['basic', 'ecco'], function(basic, ecco){\n",
              "                console.log('addToken viz_id', 'viz_426285');\n",
              "                window.ecco['viz_426285'].addToken({\"token\": \"of\", \"is_partial\": false, \"token_id\": 286, \"position\": 16, \"type\": \"output\"})\n",
              "                window.ecco['viz_426285'].redraw()\n",
              "        })\n",
              "        "
            ]
          },
          "metadata": {}
        },
        {
          "output_type": "display_data",
          "data": {
            "text/plain": [
              "<IPython.core.display.Javascript object>"
            ],
            "application/javascript": [
              "\n",
              "        // We don't really need these require scripts. But this is to avert\n",
              "        //this code from running before display_input_sequence which DOES require external files\n",
              "        requirejs(['basic', 'ecco'], function(basic, ecco){\n",
              "                console.log('addToken viz_id', 'viz_426285');\n",
              "                window.ecco['viz_426285'].addToken({\"token\": \"o\", \"is_partial\": false, \"token_id\": 267, \"position\": 17, \"type\": \"output\"})\n",
              "                window.ecco['viz_426285'].redraw()\n",
              "        })\n",
              "        "
            ]
          },
          "metadata": {}
        },
        {
          "output_type": "display_data",
          "data": {
            "text/plain": [
              "<IPython.core.display.Javascript object>"
            ],
            "application/javascript": [
              "\n",
              "        // We don't really need these require scripts. But this is to avert\n",
              "        //this code from running before display_input_sequence which DOES require external files\n",
              "        requirejs(['basic', 'ecco'], function(basic, ecco){\n",
              "                console.log('addToken viz_id', 'viz_426285');\n",
              "                window.ecco['viz_426285'].addToken({\"token\": \"atmeal\", \"is_partial\": true, \"token_id\": 45280, \"position\": 18, \"type\": \"output\"})\n",
              "                window.ecco['viz_426285'].redraw()\n",
              "        })\n",
              "        "
            ]
          },
          "metadata": {}
        },
        {
          "output_type": "display_data",
          "data": {
            "text/plain": [
              "<IPython.core.display.Javascript object>"
            ],
            "application/javascript": [
              "\n",
              "        // We don't really need these require scripts. But this is to avert\n",
              "        //this code from running before display_input_sequence which DOES require external files\n",
              "        requirejs(['basic', 'ecco'], function(basic, ecco){\n",
              "                console.log('addToken viz_id', 'viz_426285');\n",
              "                window.ecco['viz_426285'].addToken({\"token\": \"with\", \"is_partial\": false, \"token_id\": 351, \"position\": 19, \"type\": \"output\"})\n",
              "                window.ecco['viz_426285'].redraw()\n",
              "        })\n",
              "        "
            ]
          },
          "metadata": {}
        },
        {
          "output_type": "display_data",
          "data": {
            "text/plain": [
              "<IPython.core.display.Javascript object>"
            ],
            "application/javascript": [
              "\n",
              "        // We don't really need these require scripts. But this is to avert\n",
              "        //this code from running before display_input_sequence which DOES require external files\n",
              "        requirejs(['basic', 'ecco'], function(basic, ecco){\n",
              "                console.log('addToken viz_id', 'viz_426285');\n",
              "                window.ecco['viz_426285'].addToken({\"token\": \"ra\", \"is_partial\": false, \"token_id\": 2179, \"position\": 20, \"type\": \"output\"})\n",
              "                window.ecco['viz_426285'].redraw()\n",
              "        })\n",
              "        "
            ]
          },
          "metadata": {}
        },
        {
          "output_type": "display_data",
          "data": {
            "text/plain": [
              "<IPython.core.display.Javascript object>"
            ],
            "application/javascript": [
              "\n",
              "        // We don't really need these require scripts. But this is to avert\n",
              "        //this code from running before display_input_sequence which DOES require external files\n",
              "        requirejs(['basic', 'ecco'], function(basic, ecco){\n",
              "                console.log('addToken viz_id', 'viz_426285');\n",
              "                window.ecco['viz_426285'].addToken({\"token\": \"isin\", \"is_partial\": true, \"token_id\": 45763, \"position\": 21, \"type\": \"output\"})\n",
              "                window.ecco['viz_426285'].redraw()\n",
              "        })\n",
              "        "
            ]
          },
          "metadata": {}
        },
        {
          "output_type": "display_data",
          "data": {
            "text/plain": [
              "<IPython.core.display.Javascript object>"
            ],
            "application/javascript": [
              "\n",
              "        // We don't really need these require scripts. But this is to avert\n",
              "        //this code from running before display_input_sequence which DOES require external files\n",
              "        requirejs(['basic', 'ecco'], function(basic, ecco){\n",
              "                console.log('addToken viz_id', 'viz_426285');\n",
              "                window.ecco['viz_426285'].addToken({\"token\": \"cream\", \"is_partial\": false, \"token_id\": 8566, \"position\": 22, \"type\": \"output\"})\n",
              "                window.ecco['viz_426285'].redraw()\n",
              "        })\n",
              "        "
            ]
          },
          "metadata": {}
        },
        {
          "output_type": "display_data",
          "data": {
            "text/plain": [
              "<IPython.core.display.Javascript object>"
            ],
            "application/javascript": [
              "\n",
              "        // We don't really need these require scripts. But this is to avert\n",
              "        //this code from running before display_input_sequence which DOES require external files\n",
              "        requirejs(['basic', 'ecco'], function(basic, ecco){\n",
              "                console.log('addToken viz_id', 'viz_426285');\n",
              "                window.ecco['viz_426285'].addToken({\"token\": \"and\", \"is_partial\": false, \"token_id\": 290, \"position\": 23, \"type\": \"output\"})\n",
              "                window.ecco['viz_426285'].redraw()\n",
              "        })\n",
              "        "
            ]
          },
          "metadata": {}
        },
        {
          "output_type": "display_data",
          "data": {
            "text/plain": [
              "<IPython.core.display.Javascript object>"
            ],
            "application/javascript": [
              "\n",
              "        // We don't really need these require scripts. But this is to avert\n",
              "        //this code from running before display_input_sequence which DOES require external files\n",
              "        requirejs(['basic', 'ecco'], function(basic, ecco){\n",
              "                console.log('addToken viz_id', 'viz_426285');\n",
              "                window.ecco['viz_426285'].addToken({\"token\": \"a\", \"is_partial\": false, \"token_id\": 257, \"position\": 24, \"type\": \"output\"})\n",
              "                window.ecco['viz_426285'].redraw()\n",
              "        })\n",
              "        "
            ]
          },
          "metadata": {}
        },
        {
          "output_type": "display_data",
          "data": {
            "text/plain": [
              "<IPython.core.display.Javascript object>"
            ],
            "application/javascript": [
              "\n",
              "        // We don't really need these require scripts. But this is to avert\n",
              "        //this code from running before display_input_sequence which DOES require external files\n",
              "        requirejs(['basic', 'ecco'], function(basic, ecco){\n",
              "                console.log('addToken viz_id', 'viz_426285');\n",
              "                window.ecco['viz_426285'].addToken({\"token\": \"container\", \"is_partial\": false, \"token_id\": 9290, \"position\": 25, \"type\": \"output\"})\n",
              "                window.ecco['viz_426285'].redraw()\n",
              "        })\n",
              "        "
            ]
          },
          "metadata": {}
        },
        {
          "output_type": "display_data",
          "data": {
            "text/plain": [
              "<IPython.core.display.HTML object>"
            ],
            "text/html": [
              "<html lang=\"en\">\n",
              "<script src=\"https://requirejs.org/docs/release/2.3.6/minified/require.js\"></script>\n",
              "<script>\n",
              "    var ecco_url = 'https://storage.googleapis.com/ml-intro/ecco/'\n",
              "    //var ecco_url = 'http://localhost:8000/'\n",
              "\n",
              "    if (window.ecco === undefined) window.ecco = {}\n",
              "\n",
              "    // Setup the paths of the script we'll be using\n",
              "    requirejs.config({\n",
              "        urlArgs: \"bust=\" + (new Date()).getTime(),\n",
              "        nodeRequire: require,\n",
              "        paths: {\n",
              "            d3: \"https://d3js.org/d3.v6.min\", // This is only for use in setup.html and basic.html\n",
              "            \"d3-array\": \"https://d3js.org/d3-array.v2.min\",\n",
              "            jquery: \"https://code.jquery.com/jquery-3.5.1.min\",\n",
              "            ecco: ecco_url + 'js/0.0.6/ecco-bundle.min',\n",
              "            xregexp: 'https://cdnjs.cloudflare.com/ajax/libs/xregexp/3.2.0/xregexp-all.min'\n",
              "        }\n",
              "    });\n",
              "\n",
              "    // Add the css file\n",
              "    //requirejs(['d3'],\n",
              "    //    function (d3) {\n",
              "    //        d3.select('#css').attr('href', ecco_url + 'html/styles.css')\n",
              "    //    })\n",
              "\n",
              "    console.log('Ecco initialize!!')\n",
              "\n",
              "    // returns a 'basic' object. basic.init() selects the html div we'll be\n",
              "    // rendering the html into, adds styles.css to the document.\n",
              "    define('basic', ['d3'],\n",
              "        function (d3) {\n",
              "            return {\n",
              "                init: function (viz_id = null) {\n",
              "                    if (viz_id == null) {\n",
              "                        viz_id = \"viz_\" + Math.round(Math.random() * 10000000)\n",
              "                    }\n",
              "                    // Select the div rendered below, change its id\n",
              "                    const div = d3.select('#basic').attr('id', viz_id),\n",
              "                        div_parent = d3.select('#' + viz_id).node().parentNode\n",
              "\n",
              "                    // Link to CSS file\n",
              "                    d3.select(div_parent).insert('link')\n",
              "                        .attr('rel', 'stylesheet')\n",
              "                        .attr('type', 'text/css')\n",
              "                        .attr('href', ecco_url + 'html/0.0.2/styles.css')\n",
              "\n",
              "                    return viz_id\n",
              "                }\n",
              "            }\n",
              "        }, function (err) {\n",
              "            console.log(err);\n",
              "        }\n",
              "    )\n",
              "</script>\n",
              "\n",
              "<head>\n",
              "    <link id='css' rel=\"stylesheet\" type=\"text/css\">\n",
              "</head>\n",
              "<div id=\"basic\"></div>\n"
            ]
          },
          "metadata": {}
        },
        {
          "output_type": "display_data",
          "data": {
            "text/plain": [
              "<IPython.core.display.Javascript object>"
            ],
            "application/javascript": [
              "\n",
              "         requirejs(['basic', 'ecco'], function(basic, ecco){\n",
              "            const viz_id = basic.init()\n",
              "\n",
              "\n",
              "            let pred = new ecco.LayerPredictions({\n",
              "                parentDiv: viz_id,\n",
              "                data:[[{\"token\": \" a\", \"prob\": \"0.27534112\", \"ranking\": 1, \"layer\": 23}, {\"token\": \" Wag\", \"prob\": \"0.26834488\", \"ranking\": 2, \"layer\": 23}, {\"token\": \" some\", \"prob\": \"0.069141015\", \"ranking\": 3, \"layer\": 23}, {\"token\": \" Tak\", \"prob\": \"0.04713668\", \"ranking\": 4, \"layer\": 23}, {\"token\": \" poke\", \"prob\": \"0.0407124\", \"ranking\": 5, \"layer\": 23}, {\"token\": \" pizza\", \"prob\": \"0.030431638\", \"ranking\": 6, \"layer\": 23}, {\"token\": \" o\", \"prob\": \"0.021275727\", \"ranking\": 7, \"layer\": 23}, {\"token\": \" sushi\", \"prob\": \"0.01956303\", \"ranking\": 8, \"layer\": 23}, {\"token\": \" wont\", \"prob\": \"0.018480547\", \"ranking\": 9, \"layer\": 23}, {\"token\": \" chicken\", \"prob\": \"0.017950507\", \"ranking\": 10, \"layer\": 23}]]\n",
              "            })\n",
              "            pred.init()\n",
              "         }, function (err) {\n",
              "            console.log(viz_id, err);\n",
              "        })"
            ]
          },
          "metadata": {}
        }
      ]
    },
    {
      "cell_type": "code",
      "source": [
        "p3 = \"Eva, an exchange student, went to the cafeteria and saw her favorite foods, including\"\n",
        "output3 = lm.generate(p3, generate=14, do_sample=False)\n",
        "output3.layer_predictions(position=17, layer=23)"
      ],
      "metadata": {
        "id": "uVBuIO_x2UX9",
        "colab": {
          "base_uri": "https://localhost:8080/",
          "height": 228
        },
        "outputId": "d2f18601-6987-4f0e-ae2d-59152184b75d"
      },
      "execution_count": null,
      "outputs": [
        {
          "output_type": "display_data",
          "data": {
            "text/plain": [
              "<IPython.core.display.HTML object>"
            ],
            "text/html": [
              "<html lang=\"en\">\n",
              "<script src=\"https://requirejs.org/docs/release/2.3.6/minified/require.js\"></script>\n",
              "<script>\n",
              "    var ecco_url = 'https://storage.googleapis.com/ml-intro/ecco/'\n",
              "    //var ecco_url = 'http://localhost:8000/'\n",
              "\n",
              "    if (window.ecco === undefined) window.ecco = {}\n",
              "\n",
              "    // Setup the paths of the script we'll be using\n",
              "    requirejs.config({\n",
              "        urlArgs: \"bust=\" + (new Date()).getTime(),\n",
              "        nodeRequire: require,\n",
              "        paths: {\n",
              "            d3: \"https://d3js.org/d3.v6.min\", // This is only for use in setup.html and basic.html\n",
              "            \"d3-array\": \"https://d3js.org/d3-array.v2.min\",\n",
              "            jquery: \"https://code.jquery.com/jquery-3.5.1.min\",\n",
              "            ecco: ecco_url + 'js/0.0.6/ecco-bundle.min',\n",
              "            xregexp: 'https://cdnjs.cloudflare.com/ajax/libs/xregexp/3.2.0/xregexp-all.min'\n",
              "        }\n",
              "    });\n",
              "\n",
              "    // Add the css file\n",
              "    //requirejs(['d3'],\n",
              "    //    function (d3) {\n",
              "    //        d3.select('#css').attr('href', ecco_url + 'html/styles.css')\n",
              "    //    })\n",
              "\n",
              "    console.log('Ecco initialize!!')\n",
              "\n",
              "    // returns a 'basic' object. basic.init() selects the html div we'll be\n",
              "    // rendering the html into, adds styles.css to the document.\n",
              "    define('basic', ['d3'],\n",
              "        function (d3) {\n",
              "            return {\n",
              "                init: function (viz_id = null) {\n",
              "                    if (viz_id == null) {\n",
              "                        viz_id = \"viz_\" + Math.round(Math.random() * 10000000)\n",
              "                    }\n",
              "                    // Select the div rendered below, change its id\n",
              "                    const div = d3.select('#basic').attr('id', viz_id),\n",
              "                        div_parent = d3.select('#' + viz_id).node().parentNode\n",
              "\n",
              "                    // Link to CSS file\n",
              "                    d3.select(div_parent).insert('link')\n",
              "                        .attr('rel', 'stylesheet')\n",
              "                        .attr('type', 'text/css')\n",
              "                        .attr('href', ecco_url + 'html/0.0.2/styles.css')\n",
              "\n",
              "                    return viz_id\n",
              "                }\n",
              "            }\n",
              "        }, function (err) {\n",
              "            console.log(err);\n",
              "        }\n",
              "    )\n",
              "</script>\n",
              "\n",
              "<head>\n",
              "    <link id='css' rel=\"stylesheet\" type=\"text/css\">\n",
              "</head>\n",
              "<div id=\"basic\"></div>\n"
            ]
          },
          "metadata": {}
        },
        {
          "output_type": "display_data",
          "data": {
            "text/plain": [
              "<IPython.core.display.Javascript object>"
            ],
            "application/javascript": [
              "\n",
              "         requirejs( ['basic', 'ecco'], function(basic, ecco){\n",
              "            basic.init('viz_532559') // Python needs to know the viz id. Used for each output token.\n",
              "            window.ecco['viz_532559'] = new ecco.renderOutputSequence({\n",
              "                    parentDiv: 'viz_532559',\n",
              "                    data: {\"tokens\": [{\"token\": \"Eva\", \"is_partial\": true, \"position\": 0, \"token_id\": 44239, \"type\": \"input\"}, {\"token\": \",\", \"is_partial\": true, \"position\": 1, \"token_id\": 11, \"type\": \"input\"}, {\"token\": \"an\", \"is_partial\": false, \"position\": 2, \"token_id\": 281, \"type\": \"input\"}, {\"token\": \"exchange\", \"is_partial\": false, \"position\": 3, \"token_id\": 5163, \"type\": \"input\"}, {\"token\": \"student\", \"is_partial\": false, \"position\": 4, \"token_id\": 3710, \"type\": \"input\"}, {\"token\": \",\", \"is_partial\": true, \"position\": 5, \"token_id\": 11, \"type\": \"input\"}, {\"token\": \"went\", \"is_partial\": false, \"position\": 6, \"token_id\": 1816, \"type\": \"input\"}, {\"token\": \"to\", \"is_partial\": false, \"position\": 7, \"token_id\": 284, \"type\": \"input\"}, {\"token\": \"the\", \"is_partial\": false, \"position\": 8, \"token_id\": 262, \"type\": \"input\"}, {\"token\": \"cafeteria\", \"is_partial\": false, \"position\": 9, \"token_id\": 43075, \"type\": \"input\"}, {\"token\": \"and\", \"is_partial\": false, \"position\": 10, \"token_id\": 290, \"type\": \"input\"}, {\"token\": \"saw\", \"is_partial\": false, \"position\": 11, \"token_id\": 2497, \"type\": \"input\"}, {\"token\": \"her\", \"is_partial\": false, \"position\": 12, \"token_id\": 607, \"type\": \"input\"}, {\"token\": \"favorite\", \"is_partial\": false, \"position\": 13, \"token_id\": 4004, \"type\": \"input\"}, {\"token\": \"foods\", \"is_partial\": false, \"position\": 14, \"token_id\": 9013, \"type\": \"input\"}, {\"token\": \",\", \"is_partial\": true, \"position\": 15, \"token_id\": 11, \"type\": \"input\"}, {\"token\": \"including\", \"is_partial\": false, \"position\": 16, \"token_id\": 1390, \"type\": \"input\"}]},\n",
              "                    tokenization_config: {\"token_prefix\": \"\\u0120\", \"partial_token_prefix\": \"\"}\n",
              "            \n",
              "            })\n",
              "         }, function (err) {\n",
              "            console.log(err);\n",
              "        })\n",
              "        "
            ]
          },
          "metadata": {}
        },
        {
          "output_type": "stream",
          "name": "stderr",
          "text": [
            "Setting `pad_token_id` to `eos_token_id`:50256 for open-end generation.\n"
          ]
        },
        {
          "output_type": "display_data",
          "data": {
            "text/plain": [
              "<IPython.core.display.Javascript object>"
            ],
            "application/javascript": [
              "\n",
              "        // We don't really need these require scripts. But this is to avert\n",
              "        //this code from running before display_input_sequence which DOES require external files\n",
              "        requirejs(['basic', 'ecco'], function(basic, ecco){\n",
              "                console.log('addToken viz_id', 'viz_532559');\n",
              "                window.ecco['viz_532559'].addToken({\"token\": \"a\", \"is_partial\": false, \"token_id\": 257, \"position\": 17, \"type\": \"output\"})\n",
              "                window.ecco['viz_532559'].redraw()\n",
              "        })\n",
              "        "
            ]
          },
          "metadata": {}
        },
        {
          "output_type": "display_data",
          "data": {
            "text/plain": [
              "<IPython.core.display.Javascript object>"
            ],
            "application/javascript": [
              "\n",
              "        // We don't really need these require scripts. But this is to avert\n",
              "        //this code from running before display_input_sequence which DOES require external files\n",
              "        requirejs(['basic', 'ecco'], function(basic, ecco){\n",
              "                console.log('addToken viz_id', 'viz_532559');\n",
              "                window.ecco['viz_532559'].addToken({\"token\": \"bowl\", \"is_partial\": false, \"token_id\": 9396, \"position\": 18, \"type\": \"output\"})\n",
              "                window.ecco['viz_532559'].redraw()\n",
              "        })\n",
              "        "
            ]
          },
          "metadata": {}
        },
        {
          "output_type": "display_data",
          "data": {
            "text/plain": [
              "<IPython.core.display.Javascript object>"
            ],
            "application/javascript": [
              "\n",
              "        // We don't really need these require scripts. But this is to avert\n",
              "        //this code from running before display_input_sequence which DOES require external files\n",
              "        requirejs(['basic', 'ecco'], function(basic, ecco){\n",
              "                console.log('addToken viz_id', 'viz_532559');\n",
              "                window.ecco['viz_532559'].addToken({\"token\": \"of\", \"is_partial\": false, \"token_id\": 286, \"position\": 19, \"type\": \"output\"})\n",
              "                window.ecco['viz_532559'].redraw()\n",
              "        })\n",
              "        "
            ]
          },
          "metadata": {}
        },
        {
          "output_type": "display_data",
          "data": {
            "text/plain": [
              "<IPython.core.display.Javascript object>"
            ],
            "application/javascript": [
              "\n",
              "        // We don't really need these require scripts. But this is to avert\n",
              "        //this code from running before display_input_sequence which DOES require external files\n",
              "        requirejs(['basic', 'ecco'], function(basic, ecco){\n",
              "                console.log('addToken viz_id', 'viz_532559');\n",
              "                window.ecco['viz_532559'].addToken({\"token\": \"o\", \"is_partial\": false, \"token_id\": 267, \"position\": 20, \"type\": \"output\"})\n",
              "                window.ecco['viz_532559'].redraw()\n",
              "        })\n",
              "        "
            ]
          },
          "metadata": {}
        },
        {
          "output_type": "display_data",
          "data": {
            "text/plain": [
              "<IPython.core.display.Javascript object>"
            ],
            "application/javascript": [
              "\n",
              "        // We don't really need these require scripts. But this is to avert\n",
              "        //this code from running before display_input_sequence which DOES require external files\n",
              "        requirejs(['basic', 'ecco'], function(basic, ecco){\n",
              "                console.log('addToken viz_id', 'viz_532559');\n",
              "                window.ecco['viz_532559'].addToken({\"token\": \"atmeal\", \"is_partial\": true, \"token_id\": 45280, \"position\": 21, \"type\": \"output\"})\n",
              "                window.ecco['viz_532559'].redraw()\n",
              "        })\n",
              "        "
            ]
          },
          "metadata": {}
        },
        {
          "output_type": "display_data",
          "data": {
            "text/plain": [
              "<IPython.core.display.Javascript object>"
            ],
            "application/javascript": [
              "\n",
              "        // We don't really need these require scripts. But this is to avert\n",
              "        //this code from running before display_input_sequence which DOES require external files\n",
              "        requirejs(['basic', 'ecco'], function(basic, ecco){\n",
              "                console.log('addToken viz_id', 'viz_532559');\n",
              "                window.ecco['viz_532559'].addToken({\"token\": \"with\", \"is_partial\": false, \"token_id\": 351, \"position\": 22, \"type\": \"output\"})\n",
              "                window.ecco['viz_532559'].redraw()\n",
              "        })\n",
              "        "
            ]
          },
          "metadata": {}
        },
        {
          "output_type": "display_data",
          "data": {
            "text/plain": [
              "<IPython.core.display.Javascript object>"
            ],
            "application/javascript": [
              "\n",
              "        // We don't really need these require scripts. But this is to avert\n",
              "        //this code from running before display_input_sequence which DOES require external files\n",
              "        requirejs(['basic', 'ecco'], function(basic, ecco){\n",
              "                console.log('addToken viz_id', 'viz_532559');\n",
              "                window.ecco['viz_532559'].addToken({\"token\": \"ra\", \"is_partial\": false, \"token_id\": 2179, \"position\": 23, \"type\": \"output\"})\n",
              "                window.ecco['viz_532559'].redraw()\n",
              "        })\n",
              "        "
            ]
          },
          "metadata": {}
        },
        {
          "output_type": "display_data",
          "data": {
            "text/plain": [
              "<IPython.core.display.Javascript object>"
            ],
            "application/javascript": [
              "\n",
              "        // We don't really need these require scripts. But this is to avert\n",
              "        //this code from running before display_input_sequence which DOES require external files\n",
              "        requirejs(['basic', 'ecco'], function(basic, ecco){\n",
              "                console.log('addToken viz_id', 'viz_532559');\n",
              "                window.ecco['viz_532559'].addToken({\"token\": \"is\", \"is_partial\": true, \"token_id\": 271, \"position\": 24, \"type\": \"output\"})\n",
              "                window.ecco['viz_532559'].redraw()\n",
              "        })\n",
              "        "
            ]
          },
          "metadata": {}
        },
        {
          "output_type": "display_data",
          "data": {
            "text/plain": [
              "<IPython.core.display.Javascript object>"
            ],
            "application/javascript": [
              "\n",
              "        // We don't really need these require scripts. But this is to avert\n",
              "        //this code from running before display_input_sequence which DOES require external files\n",
              "        requirejs(['basic', 'ecco'], function(basic, ecco){\n",
              "                console.log('addToken viz_id', 'viz_532559');\n",
              "                window.ecco['viz_532559'].addToken({\"token\": \"ins\", \"is_partial\": true, \"token_id\": 1040, \"position\": 25, \"type\": \"output\"})\n",
              "                window.ecco['viz_532559'].redraw()\n",
              "        })\n",
              "        "
            ]
          },
          "metadata": {}
        },
        {
          "output_type": "display_data",
          "data": {
            "text/plain": [
              "<IPython.core.display.Javascript object>"
            ],
            "application/javascript": [
              "\n",
              "        // We don't really need these require scripts. But this is to avert\n",
              "        //this code from running before display_input_sequence which DOES require external files\n",
              "        requirejs(['basic', 'ecco'], function(basic, ecco){\n",
              "                console.log('addToken viz_id', 'viz_532559');\n",
              "                window.ecco['viz_532559'].addToken({\"token\": \",\", \"is_partial\": true, \"token_id\": 11, \"position\": 26, \"type\": \"output\"})\n",
              "                window.ecco['viz_532559'].redraw()\n",
              "        })\n",
              "        "
            ]
          },
          "metadata": {}
        },
        {
          "output_type": "display_data",
          "data": {
            "text/plain": [
              "<IPython.core.display.Javascript object>"
            ],
            "application/javascript": [
              "\n",
              "        // We don't really need these require scripts. But this is to avert\n",
              "        //this code from running before display_input_sequence which DOES require external files\n",
              "        requirejs(['basic', 'ecco'], function(basic, ecco){\n",
              "                console.log('addToken viz_id', 'viz_532559');\n",
              "                window.ecco['viz_532559'].addToken({\"token\": \"were\", \"is_partial\": false, \"token_id\": 547, \"position\": 27, \"type\": \"output\"})\n",
              "                window.ecco['viz_532559'].redraw()\n",
              "        })\n",
              "        "
            ]
          },
          "metadata": {}
        },
        {
          "output_type": "display_data",
          "data": {
            "text/plain": [
              "<IPython.core.display.Javascript object>"
            ],
            "application/javascript": [
              "\n",
              "        // We don't really need these require scripts. But this is to avert\n",
              "        //this code from running before display_input_sequence which DOES require external files\n",
              "        requirejs(['basic', 'ecco'], function(basic, ecco){\n",
              "                console.log('addToken viz_id', 'viz_532559');\n",
              "                window.ecco['viz_532559'].addToken({\"token\": \"missing\", \"is_partial\": false, \"token_id\": 4814, \"position\": 28, \"type\": \"output\"})\n",
              "                window.ecco['viz_532559'].redraw()\n",
              "        })\n",
              "        "
            ]
          },
          "metadata": {}
        },
        {
          "output_type": "display_data",
          "data": {
            "text/plain": [
              "<IPython.core.display.Javascript object>"
            ],
            "application/javascript": [
              "\n",
              "        // We don't really need these require scripts. But this is to avert\n",
              "        //this code from running before display_input_sequence which DOES require external files\n",
              "        requirejs(['basic', 'ecco'], function(basic, ecco){\n",
              "                console.log('addToken viz_id', 'viz_532559');\n",
              "                window.ecco['viz_532559'].addToken({\"token\": \".\", \"is_partial\": true, \"token_id\": 13, \"position\": 29, \"type\": \"output\"})\n",
              "                window.ecco['viz_532559'].redraw()\n",
              "        })\n",
              "        "
            ]
          },
          "metadata": {}
        },
        {
          "output_type": "display_data",
          "data": {
            "text/plain": [
              "<IPython.core.display.Javascript object>"
            ],
            "application/javascript": [
              "\n",
              "        // We don't really need these require scripts. But this is to avert\n",
              "        //this code from running before display_input_sequence which DOES require external files\n",
              "        requirejs(['basic', 'ecco'], function(basic, ecco){\n",
              "                console.log('addToken viz_id', 'viz_532559');\n",
              "                window.ecco['viz_532559'].addToken({\"token\": \"What\", \"is_partial\": false, \"token_id\": 1867, \"position\": 30, \"type\": \"output\"})\n",
              "                window.ecco['viz_532559'].redraw()\n",
              "        })\n",
              "        "
            ]
          },
          "metadata": {}
        },
        {
          "output_type": "display_data",
          "data": {
            "text/plain": [
              "<IPython.core.display.HTML object>"
            ],
            "text/html": [
              "<html lang=\"en\">\n",
              "<script src=\"https://requirejs.org/docs/release/2.3.6/minified/require.js\"></script>\n",
              "<script>\n",
              "    var ecco_url = 'https://storage.googleapis.com/ml-intro/ecco/'\n",
              "    //var ecco_url = 'http://localhost:8000/'\n",
              "\n",
              "    if (window.ecco === undefined) window.ecco = {}\n",
              "\n",
              "    // Setup the paths of the script we'll be using\n",
              "    requirejs.config({\n",
              "        urlArgs: \"bust=\" + (new Date()).getTime(),\n",
              "        nodeRequire: require,\n",
              "        paths: {\n",
              "            d3: \"https://d3js.org/d3.v6.min\", // This is only for use in setup.html and basic.html\n",
              "            \"d3-array\": \"https://d3js.org/d3-array.v2.min\",\n",
              "            jquery: \"https://code.jquery.com/jquery-3.5.1.min\",\n",
              "            ecco: ecco_url + 'js/0.0.6/ecco-bundle.min',\n",
              "            xregexp: 'https://cdnjs.cloudflare.com/ajax/libs/xregexp/3.2.0/xregexp-all.min'\n",
              "        }\n",
              "    });\n",
              "\n",
              "    // Add the css file\n",
              "    //requirejs(['d3'],\n",
              "    //    function (d3) {\n",
              "    //        d3.select('#css').attr('href', ecco_url + 'html/styles.css')\n",
              "    //    })\n",
              "\n",
              "    console.log('Ecco initialize!!')\n",
              "\n",
              "    // returns a 'basic' object. basic.init() selects the html div we'll be\n",
              "    // rendering the html into, adds styles.css to the document.\n",
              "    define('basic', ['d3'],\n",
              "        function (d3) {\n",
              "            return {\n",
              "                init: function (viz_id = null) {\n",
              "                    if (viz_id == null) {\n",
              "                        viz_id = \"viz_\" + Math.round(Math.random() * 10000000)\n",
              "                    }\n",
              "                    // Select the div rendered below, change its id\n",
              "                    const div = d3.select('#basic').attr('id', viz_id),\n",
              "                        div_parent = d3.select('#' + viz_id).node().parentNode\n",
              "\n",
              "                    // Link to CSS file\n",
              "                    d3.select(div_parent).insert('link')\n",
              "                        .attr('rel', 'stylesheet')\n",
              "                        .attr('type', 'text/css')\n",
              "                        .attr('href', ecco_url + 'html/0.0.2/styles.css')\n",
              "\n",
              "                    return viz_id\n",
              "                }\n",
              "            }\n",
              "        }, function (err) {\n",
              "            console.log(err);\n",
              "        }\n",
              "    )\n",
              "</script>\n",
              "\n",
              "<head>\n",
              "    <link id='css' rel=\"stylesheet\" type=\"text/css\">\n",
              "</head>\n",
              "<div id=\"basic\"></div>\n"
            ]
          },
          "metadata": {}
        },
        {
          "output_type": "display_data",
          "data": {
            "text/plain": [
              "<IPython.core.display.Javascript object>"
            ],
            "application/javascript": [
              "\n",
              "         requirejs(['basic', 'ecco'], function(basic, ecco){\n",
              "            const viz_id = basic.init()\n",
              "\n",
              "\n",
              "            let pred = new ecco.LayerPredictions({\n",
              "                parentDiv: viz_id,\n",
              "                data:[[{\"token\": \" a\", \"prob\": \"0.5409598\", \"ranking\": 1, \"layer\": 23}, {\"token\": \" some\", \"prob\": \"0.19121042\", \"ranking\": 2, \"layer\": 23}, {\"token\": \" pizza\", \"prob\": \"0.10656763\", \"ranking\": 3, \"layer\": 23}, {\"token\": \" pest\", \"prob\": \"0.03795903\", \"ranking\": 4, \"layer\": 23}, {\"token\": \" w\", \"prob\": \"0.021564145\", \"ranking\": 5, \"layer\": 23}, {\"token\": \" tuna\", \"prob\": \"0.011987246\", \"ranking\": 6, \"layer\": 23}, {\"token\": \" french\", \"prob\": \"0.008461796\", \"ranking\": 7, \"layer\": 23}, {\"token\": \" noodles\", \"prob\": \"0.007730106\", \"ranking\": 8, \"layer\": 23}, {\"token\": \" an\", \"prob\": \"0.007519591\", \"ranking\": 9, \"layer\": 23}, {\"token\": \" o\", \"prob\": \"0.007497422\", \"ranking\": 10, \"layer\": 23}]]\n",
              "            })\n",
              "            pred.init()\n",
              "         }, function (err) {\n",
              "            console.log(viz_id, err);\n",
              "        })"
            ]
          },
          "metadata": {}
        }
      ]
    },
    {
      "cell_type": "markdown",
      "source": [
        "### Other prompts: Facts\n",
        "\n",
        "mLAMA is a multilingual benchmark developed by Nora Kassner, Philipp Dufter, and Hinrich Schütze at LMU Munich. https://arxiv.org/abs/2102.00894 \n",
        "\n",
        "It is based on Facebook/Meta's LAMA benchmark and fills templates with facts from WikiData.\n",
        "\n",
        "I've extracted the Czech factual sentences [in this notebook](https://colab.research.google.com/drive/1Zu9usTmtOo-IpGukntsKlB02oQMMII2l?usp=sharing)."
      ],
      "metadata": {
        "id": "KotIHrjUuIEu"
      }
    },
    {
      "cell_type": "code",
      "source": [
        "! cp ./drive/MyDrive/Prague_Workshop/mlama-cs-from-templates.zip ./\n",
        "! unzip mlama-cs-from-templates.zip"
      ],
      "metadata": {
        "colab": {
          "base_uri": "https://localhost:8080/"
        },
        "id": "8c0XWqBhunsZ",
        "outputId": "ee7a3f2b-f5cc-4e2d-d403-1eb062df9cac"
      },
      "execution_count": 8,
      "outputs": [
        {
          "output_type": "stream",
          "name": "stdout",
          "text": [
            "Archive:  mlama-cs-from-templates.zip\n",
            "  inflating: cs-templates.json       \n",
            "  inflating: __MACOSX/._cs-templates.json  \n"
          ]
        }
      ]
    },
    {
      "cell_type": "code",
      "source": [
        "import json\n",
        "prompts = json.load(open('cs-templates.json', 'r'))\n",
        "prompts['cs'].keys()"
      ],
      "metadata": {
        "colab": {
          "base_uri": "https://localhost:8080/"
        },
        "id": "a0w5fpKhuliC",
        "outputId": "f1d39804-b318-4ee0-bb9b-6fe498a0df8d"
      },
      "execution_count": 9,
      "outputs": [
        {
          "output_type": "execute_result",
          "data": {
            "text/plain": [
              "dict_keys(['P264', 'P937', 'P19', 'date_of_birth', 'P176', 'P103', 'P39', 'P449', 'P138', 'P37', 'P131', 'P108', 'place_of_birth', 'P364', 'P31', 'P127', 'P495', 'P136', 'P413', 'P1303', 'P279', 'P159', 'P530', 'P47', 'P1376', 'P106', 'P101', 'P740', 'P361', 'P140', 'P463', 'P1412', 'P17', 'P36', 'P178', 'P30', 'P407', 'P20', 'P527', 'P27', 'P276', 'place_of_death', 'P190', 'P1001'])"
            ]
          },
          "metadata": {},
          "execution_count": 9
        }
      ]
    },
    {
      "cell_type": "code",
      "source": [
        "import random\n",
        "filled = prompts['cs']['P937']['filled_templates']\n",
        "random.choice(list(filled.items()))"
      ],
      "metadata": {
        "colab": {
          "base_uri": "https://localhost:8080/"
        },
        "id": "hKPIIOfivQKK",
        "outputId": "31835855-2b4c-469b-8e63-8268d0ebeb67"
      },
      "execution_count": 25,
      "outputs": [
        {
          "output_type": "execute_result",
          "data": {
            "text/plain": [
              "('876', 'Steven Spielberg pracoval v [Y].')"
            ]
          },
          "metadata": {},
          "execution_count": 25
        }
      ]
    },
    {
      "cell_type": "markdown",
      "source": [
        "## Other prompts: gender"
      ],
      "metadata": {
        "id": "UG6YPRBJHu6u"
      }
    },
    {
      "cell_type": "markdown",
      "source": [
        "In English, no articles and few nouns have gender. Over the past ~40 years, some of these words are falling out of favor (via Google Books Ngram Viewer)\n",
        "\n",
        "<img width=\"400\" src=\"data:image/png;base64,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\"/>\n",
        "\n",
        "> Our house was on fire! We were rescued by **a** [fireman | firewoman | firefighter]\n",
        "\n",
        "In Spanish, the firefighter must have a gender, which is revealed if we include the article.\n",
        "\n",
        "> ¡Nuestra casa estaba en llamas! Fuimos rescatados por [un bombero | una bombera].\n",
        "\n",
        "We use a causal language model, so some sentences are valid but not usable as test prompts.\n",
        "\n",
        "> A [fireman | firewoman | firefighter] rescued us!"
      ],
      "metadata": {
        "id": "nZrcBikcH9gc"
      }
    },
    {
      "cell_type": "markdown",
      "source": [
        "## Typical Sampling in Decoder\n",
        "\n",
        "Research says that users prefer typical sampling ( https://arxiv.org/abs/2202.00666 ) - let's try it out!"
      ],
      "metadata": {
        "id": "xP516nTYc1Qj"
      }
    },
    {
      "cell_type": "code",
      "source": [
        "import transformers\n",
        "from transformers import AutoModelForCausalLM, AutoTokenizer\n",
        "transformers.logging.set_verbosity_info()"
      ],
      "metadata": {
        "id": "CF7Y08sSsG7x"
      },
      "execution_count": null,
      "outputs": []
    },
    {
      "cell_type": "code",
      "source": [
        "# load pretrained model\n",
        "model = ?\n",
        "\n",
        "# tokenize text\n",
        "content = ?"
      ],
      "metadata": {
        "id": "pySFUWX7xvNf"
      },
      "execution_count": null,
      "outputs": []
    },
    {
      "cell_type": "code",
      "source": [
        "typ_output = model.generate(\n",
        "    content,\n",
        "    max_length=50, \n",
        "    num_beams=1,  #?\n",
        "    early_stopping=True,\n",
        "    do_sample=True,\n",
        "    typical_p=0.85, #?\n",
        "    repetition_penalty=4.0, #?\n",
        "    log_decoder=True,\n",
        ")\n",
        "\n",
        "tokenizer.decode(typ_output[0], skip_special_tokens=True)"
      ],
      "metadata": {
        "id": "c9Cg69Hyc37I"
      },
      "execution_count": null,
      "outputs": []
    }
  ]
}